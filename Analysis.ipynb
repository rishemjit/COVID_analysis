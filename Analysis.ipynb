{
 "cells": [
  {
   "cell_type": "code",
   "execution_count": 1,
   "metadata": {},
   "outputs": [],
   "source": [
    "import pandas as pd\n",
    "import numpy as np\n",
    "import matplotlib.pyplot as plt"
   ]
  },
  {
   "cell_type": "code",
   "execution_count": 2,
   "metadata": {},
   "outputs": [
    {
     "data": {
      "text/html": [
       "<div>\n",
       "<style scoped>\n",
       "    .dataframe tbody tr th:only-of-type {\n",
       "        vertical-align: middle;\n",
       "    }\n",
       "\n",
       "    .dataframe tbody tr th {\n",
       "        vertical-align: top;\n",
       "    }\n",
       "\n",
       "    .dataframe thead th {\n",
       "        text-align: right;\n",
       "    }\n",
       "</style>\n",
       "<table border=\"1\" class=\"dataframe\">\n",
       "  <thead>\n",
       "    <tr style=\"text-align: right;\">\n",
       "      <th></th>\n",
       "      <th>date</th>\n",
       "      <th>location</th>\n",
       "      <th>new_cases</th>\n",
       "      <th>new_deaths</th>\n",
       "      <th>total_cases</th>\n",
       "      <th>total_deaths</th>\n",
       "    </tr>\n",
       "  </thead>\n",
       "  <tbody>\n",
       "    <tr>\n",
       "      <th>0</th>\n",
       "      <td>2020-02-25</td>\n",
       "      <td>Afghanistan</td>\n",
       "      <td>0.0</td>\n",
       "      <td>0.0</td>\n",
       "      <td>1</td>\n",
       "      <td>0.0</td>\n",
       "    </tr>\n",
       "    <tr>\n",
       "      <th>1</th>\n",
       "      <td>2020-02-26</td>\n",
       "      <td>Afghanistan</td>\n",
       "      <td>0.0</td>\n",
       "      <td>0.0</td>\n",
       "      <td>1</td>\n",
       "      <td>0.0</td>\n",
       "    </tr>\n",
       "    <tr>\n",
       "      <th>2</th>\n",
       "      <td>2020-02-27</td>\n",
       "      <td>Afghanistan</td>\n",
       "      <td>0.0</td>\n",
       "      <td>0.0</td>\n",
       "      <td>1</td>\n",
       "      <td>0.0</td>\n",
       "    </tr>\n",
       "    <tr>\n",
       "      <th>3</th>\n",
       "      <td>2020-02-28</td>\n",
       "      <td>Afghanistan</td>\n",
       "      <td>0.0</td>\n",
       "      <td>0.0</td>\n",
       "      <td>1</td>\n",
       "      <td>0.0</td>\n",
       "    </tr>\n",
       "    <tr>\n",
       "      <th>4</th>\n",
       "      <td>2020-02-29</td>\n",
       "      <td>Afghanistan</td>\n",
       "      <td>0.0</td>\n",
       "      <td>0.0</td>\n",
       "      <td>1</td>\n",
       "      <td>0.0</td>\n",
       "    </tr>\n",
       "  </tbody>\n",
       "</table>\n",
       "</div>"
      ],
      "text/plain": [
       "         date     location  new_cases  new_deaths  total_cases  total_deaths\n",
       "0  2020-02-25  Afghanistan        0.0         0.0            1           0.0\n",
       "1  2020-02-26  Afghanistan        0.0         0.0            1           0.0\n",
       "2  2020-02-27  Afghanistan        0.0         0.0            1           0.0\n",
       "3  2020-02-28  Afghanistan        0.0         0.0            1           0.0\n",
       "4  2020-02-29  Afghanistan        0.0         0.0            1           0.0"
      ]
     },
     "execution_count": 2,
     "metadata": {},
     "output_type": "execute_result"
    }
   ],
   "source": [
    "dCV = pd.read_csv('full_data.csv').fillna(0)\n",
    "dCV.head()"
   ]
  },
  {
   "cell_type": "code",
   "execution_count": 3,
   "metadata": {},
   "outputs": [
    {
     "data": {
      "text/plain": [
       "array(['Afghanistan', 'Albania', 'Algeria', 'Andorra', 'Argentina',\n",
       "       'Armenia', 'Australia', 'Austria', 'Azerbaijan', 'Bahrain',\n",
       "       'Bangladesh', 'Belarus', 'Belgium', 'Bhutan', 'Bolivia',\n",
       "       'Bosnia and Herzegovina', 'Brazil', 'Brunei', 'Bulgaria',\n",
       "       'Burkina Faso', 'Cambodia', 'Cameroon', 'Canada', 'Chile', 'China',\n",
       "       'Colombia', 'Costa Rica', 'Croatia', 'Cyprus', 'Czech Republic',\n",
       "       \"Cote d'Ivoire\", 'Democratic Republic of Congo', 'Denmark',\n",
       "       'Dominican Republic', 'Ecuador', 'Egypt', 'Estonia',\n",
       "       'Faeroe Islands', 'Finland', 'France', 'French Guiana',\n",
       "       'French Polynesia', 'Georgia', 'Germany', 'Gibraltar', 'Greece',\n",
       "       'Guernsey', 'Vatican', 'Honduras', 'Hungary', 'Iceland', 'India',\n",
       "       'Indonesia', 'International', 'Iran', 'Iraq', 'Ireland', 'Israel',\n",
       "       'Italy', 'Jamaica', 'Japan', 'Jordan', 'Kuwait', 'Latvia',\n",
       "       'Lebanon', 'Liechtenstein', 'Lithuania', 'Luxembourg', 'Malaysia',\n",
       "       'Maldives', 'Malta', 'Martinique', 'Mexico', 'Monaco', 'Mongolia',\n",
       "       'Morocco', 'Nepal', 'Netherlands', 'New Zealand', 'Nigeria',\n",
       "       'Macedonia', 'Norway', 'Palestine', 'Oman', 'Pakistan', 'Panama',\n",
       "       'Paraguay', 'Peru', 'Philippines', 'Poland', 'Portugal', 'Qatar',\n",
       "       'South Korea', 'Moldova', 'Romania', 'Russia', 'Saint Barthlemy',\n",
       "       'Saint Martin (French part)', 'San Marino', 'Saudi Arabia',\n",
       "       'Senegal', 'Serbia', 'Singapore', 'Slovakia', 'Slovenia',\n",
       "       'South Africa', 'Spain', 'Sri Lanka', 'Sweden', 'Switzerland',\n",
       "       'Thailand', 'United Kingdom', 'Togo', 'Tunisia', 'Turkey',\n",
       "       'Ukraine', 'United Arab Emirates', 'United States', 'Vietnam',\n",
       "       'Worldwide'], dtype=object)"
      ]
     },
     "execution_count": 3,
     "metadata": {},
     "output_type": "execute_result"
    }
   ],
   "source": [
    "dCV.location.unique()"
   ]
  },
  {
   "cell_type": "code",
   "execution_count": 4,
   "metadata": {},
   "outputs": [],
   "source": [
    "def groupby_column(df, column):\n",
    "    gb_obj = df.groupby(column)\n",
    "    gb_datadict = {key: gb_obj.get_group(key) for key in gb_obj.groups}\n",
    "    return gb_datadict\n",
    "\n",
    "def add_days(df_dict):\n",
    "    days = []\n",
    "    for key in df_dict.keys():\n",
    "        df_dict[key]['day'] = [ i for i in range(1, df_dict[key].shape[0]+1)]   \n",
    "        df_dict[key]['reverse_day'] = list(-1 *np.array(sorted([ i for i in range(1, df_dict[key].shape[0]+1)], reverse = True)))\n",
    "    return df_dict\n",
    "\n",
    "def add_log(df_dict, column):\n",
    "    days = []\n",
    "    for key in df_dict.keys():\n",
    "        df_dict[key]['log_'+ str(column)] = np.log(abs(df_dict[key][column]))\n",
    "    return df_dict\n",
    "\n",
    "\n"
   ]
  },
  {
   "cell_type": "code",
   "execution_count": 5,
   "metadata": {},
   "outputs": [
    {
     "name": "stdout",
     "output_type": "stream",
     "text": [
      "42\n"
     ]
    },
    {
     "name": "stderr",
     "output_type": "stream",
     "text": [
      "/Users/fpil/anaconda3/lib/python3.7/site-packages/ipykernel_launcher.py:9: SettingWithCopyWarning: \n",
      "A value is trying to be set on a copy of a slice from a DataFrame.\n",
      "Try using .loc[row_indexer,col_indexer] = value instead\n",
      "\n",
      "See the caveats in the documentation: http://pandas.pydata.org/pandas-docs/stable/user_guide/indexing.html#returning-a-view-versus-a-copy\n",
      "  if __name__ == '__main__':\n",
      "/Users/fpil/anaconda3/lib/python3.7/site-packages/ipykernel_launcher.py:10: SettingWithCopyWarning: \n",
      "A value is trying to be set on a copy of a slice from a DataFrame.\n",
      "Try using .loc[row_indexer,col_indexer] = value instead\n",
      "\n",
      "See the caveats in the documentation: http://pandas.pydata.org/pandas-docs/stable/user_guide/indexing.html#returning-a-view-versus-a-copy\n",
      "  # Remove the CWD from sys.path while we load stuff.\n"
     ]
    },
    {
     "data": {
      "text/html": [
       "<div>\n",
       "<style scoped>\n",
       "    .dataframe tbody tr th:only-of-type {\n",
       "        vertical-align: middle;\n",
       "    }\n",
       "\n",
       "    .dataframe tbody tr th {\n",
       "        vertical-align: top;\n",
       "    }\n",
       "\n",
       "    .dataframe thead th {\n",
       "        text-align: right;\n",
       "    }\n",
       "</style>\n",
       "<table border=\"1\" class=\"dataframe\">\n",
       "  <thead>\n",
       "    <tr style=\"text-align: right;\">\n",
       "      <th></th>\n",
       "      <th>date</th>\n",
       "      <th>location</th>\n",
       "      <th>new_cases</th>\n",
       "      <th>new_deaths</th>\n",
       "      <th>total_cases</th>\n",
       "      <th>total_deaths</th>\n",
       "      <th>day</th>\n",
       "      <th>reverse_day</th>\n",
       "    </tr>\n",
       "  </thead>\n",
       "  <tbody>\n",
       "    <tr>\n",
       "      <th>754</th>\n",
       "      <td>2020-01-30</td>\n",
       "      <td>India</td>\n",
       "      <td>0.0</td>\n",
       "      <td>0.0</td>\n",
       "      <td>1</td>\n",
       "      <td>0.0</td>\n",
       "      <td>1</td>\n",
       "      <td>-43</td>\n",
       "    </tr>\n",
       "    <tr>\n",
       "      <th>755</th>\n",
       "      <td>2020-01-31</td>\n",
       "      <td>India</td>\n",
       "      <td>0.0</td>\n",
       "      <td>0.0</td>\n",
       "      <td>1</td>\n",
       "      <td>0.0</td>\n",
       "      <td>2</td>\n",
       "      <td>-42</td>\n",
       "    </tr>\n",
       "    <tr>\n",
       "      <th>756</th>\n",
       "      <td>2020-02-01</td>\n",
       "      <td>India</td>\n",
       "      <td>0.0</td>\n",
       "      <td>0.0</td>\n",
       "      <td>1</td>\n",
       "      <td>0.0</td>\n",
       "      <td>3</td>\n",
       "      <td>-41</td>\n",
       "    </tr>\n",
       "    <tr>\n",
       "      <th>757</th>\n",
       "      <td>2020-02-02</td>\n",
       "      <td>India</td>\n",
       "      <td>1.0</td>\n",
       "      <td>0.0</td>\n",
       "      <td>2</td>\n",
       "      <td>0.0</td>\n",
       "      <td>4</td>\n",
       "      <td>-40</td>\n",
       "    </tr>\n",
       "    <tr>\n",
       "      <th>758</th>\n",
       "      <td>2020-02-03</td>\n",
       "      <td>India</td>\n",
       "      <td>1.0</td>\n",
       "      <td>0.0</td>\n",
       "      <td>3</td>\n",
       "      <td>0.0</td>\n",
       "      <td>5</td>\n",
       "      <td>-39</td>\n",
       "    </tr>\n",
       "    <tr>\n",
       "      <th>759</th>\n",
       "      <td>2020-02-04</td>\n",
       "      <td>India</td>\n",
       "      <td>0.0</td>\n",
       "      <td>0.0</td>\n",
       "      <td>3</td>\n",
       "      <td>0.0</td>\n",
       "      <td>6</td>\n",
       "      <td>-38</td>\n",
       "    </tr>\n",
       "    <tr>\n",
       "      <th>760</th>\n",
       "      <td>2020-02-05</td>\n",
       "      <td>India</td>\n",
       "      <td>0.0</td>\n",
       "      <td>0.0</td>\n",
       "      <td>3</td>\n",
       "      <td>0.0</td>\n",
       "      <td>7</td>\n",
       "      <td>-37</td>\n",
       "    </tr>\n",
       "    <tr>\n",
       "      <th>761</th>\n",
       "      <td>2020-02-06</td>\n",
       "      <td>India</td>\n",
       "      <td>0.0</td>\n",
       "      <td>0.0</td>\n",
       "      <td>3</td>\n",
       "      <td>0.0</td>\n",
       "      <td>8</td>\n",
       "      <td>-36</td>\n",
       "    </tr>\n",
       "    <tr>\n",
       "      <th>762</th>\n",
       "      <td>2020-02-07</td>\n",
       "      <td>India</td>\n",
       "      <td>0.0</td>\n",
       "      <td>0.0</td>\n",
       "      <td>3</td>\n",
       "      <td>0.0</td>\n",
       "      <td>9</td>\n",
       "      <td>-35</td>\n",
       "    </tr>\n",
       "    <tr>\n",
       "      <th>763</th>\n",
       "      <td>2020-02-08</td>\n",
       "      <td>India</td>\n",
       "      <td>0.0</td>\n",
       "      <td>0.0</td>\n",
       "      <td>3</td>\n",
       "      <td>0.0</td>\n",
       "      <td>10</td>\n",
       "      <td>-34</td>\n",
       "    </tr>\n",
       "    <tr>\n",
       "      <th>764</th>\n",
       "      <td>2020-02-09</td>\n",
       "      <td>India</td>\n",
       "      <td>0.0</td>\n",
       "      <td>0.0</td>\n",
       "      <td>3</td>\n",
       "      <td>0.0</td>\n",
       "      <td>11</td>\n",
       "      <td>-33</td>\n",
       "    </tr>\n",
       "    <tr>\n",
       "      <th>765</th>\n",
       "      <td>2020-02-10</td>\n",
       "      <td>India</td>\n",
       "      <td>0.0</td>\n",
       "      <td>0.0</td>\n",
       "      <td>3</td>\n",
       "      <td>0.0</td>\n",
       "      <td>12</td>\n",
       "      <td>-32</td>\n",
       "    </tr>\n",
       "    <tr>\n",
       "      <th>766</th>\n",
       "      <td>2020-02-11</td>\n",
       "      <td>India</td>\n",
       "      <td>0.0</td>\n",
       "      <td>0.0</td>\n",
       "      <td>3</td>\n",
       "      <td>0.0</td>\n",
       "      <td>13</td>\n",
       "      <td>-31</td>\n",
       "    </tr>\n",
       "    <tr>\n",
       "      <th>767</th>\n",
       "      <td>2020-02-12</td>\n",
       "      <td>India</td>\n",
       "      <td>0.0</td>\n",
       "      <td>0.0</td>\n",
       "      <td>3</td>\n",
       "      <td>0.0</td>\n",
       "      <td>14</td>\n",
       "      <td>-30</td>\n",
       "    </tr>\n",
       "    <tr>\n",
       "      <th>768</th>\n",
       "      <td>2020-02-13</td>\n",
       "      <td>India</td>\n",
       "      <td>0.0</td>\n",
       "      <td>0.0</td>\n",
       "      <td>3</td>\n",
       "      <td>0.0</td>\n",
       "      <td>15</td>\n",
       "      <td>-29</td>\n",
       "    </tr>\n",
       "    <tr>\n",
       "      <th>769</th>\n",
       "      <td>2020-02-14</td>\n",
       "      <td>India</td>\n",
       "      <td>0.0</td>\n",
       "      <td>0.0</td>\n",
       "      <td>3</td>\n",
       "      <td>0.0</td>\n",
       "      <td>16</td>\n",
       "      <td>-28</td>\n",
       "    </tr>\n",
       "    <tr>\n",
       "      <th>770</th>\n",
       "      <td>2020-02-15</td>\n",
       "      <td>India</td>\n",
       "      <td>0.0</td>\n",
       "      <td>0.0</td>\n",
       "      <td>3</td>\n",
       "      <td>0.0</td>\n",
       "      <td>17</td>\n",
       "      <td>-27</td>\n",
       "    </tr>\n",
       "    <tr>\n",
       "      <th>771</th>\n",
       "      <td>2020-02-16</td>\n",
       "      <td>India</td>\n",
       "      <td>0.0</td>\n",
       "      <td>0.0</td>\n",
       "      <td>3</td>\n",
       "      <td>0.0</td>\n",
       "      <td>18</td>\n",
       "      <td>-26</td>\n",
       "    </tr>\n",
       "    <tr>\n",
       "      <th>772</th>\n",
       "      <td>2020-02-17</td>\n",
       "      <td>India</td>\n",
       "      <td>0.0</td>\n",
       "      <td>0.0</td>\n",
       "      <td>3</td>\n",
       "      <td>0.0</td>\n",
       "      <td>19</td>\n",
       "      <td>-25</td>\n",
       "    </tr>\n",
       "    <tr>\n",
       "      <th>773</th>\n",
       "      <td>2020-02-18</td>\n",
       "      <td>India</td>\n",
       "      <td>0.0</td>\n",
       "      <td>0.0</td>\n",
       "      <td>3</td>\n",
       "      <td>0.0</td>\n",
       "      <td>20</td>\n",
       "      <td>-24</td>\n",
       "    </tr>\n",
       "    <tr>\n",
       "      <th>774</th>\n",
       "      <td>2020-02-19</td>\n",
       "      <td>India</td>\n",
       "      <td>0.0</td>\n",
       "      <td>0.0</td>\n",
       "      <td>3</td>\n",
       "      <td>0.0</td>\n",
       "      <td>21</td>\n",
       "      <td>-23</td>\n",
       "    </tr>\n",
       "    <tr>\n",
       "      <th>775</th>\n",
       "      <td>2020-02-20</td>\n",
       "      <td>India</td>\n",
       "      <td>0.0</td>\n",
       "      <td>0.0</td>\n",
       "      <td>3</td>\n",
       "      <td>0.0</td>\n",
       "      <td>22</td>\n",
       "      <td>-22</td>\n",
       "    </tr>\n",
       "    <tr>\n",
       "      <th>776</th>\n",
       "      <td>2020-02-21</td>\n",
       "      <td>India</td>\n",
       "      <td>0.0</td>\n",
       "      <td>0.0</td>\n",
       "      <td>3</td>\n",
       "      <td>0.0</td>\n",
       "      <td>23</td>\n",
       "      <td>-21</td>\n",
       "    </tr>\n",
       "    <tr>\n",
       "      <th>777</th>\n",
       "      <td>2020-02-22</td>\n",
       "      <td>India</td>\n",
       "      <td>0.0</td>\n",
       "      <td>0.0</td>\n",
       "      <td>3</td>\n",
       "      <td>0.0</td>\n",
       "      <td>24</td>\n",
       "      <td>-20</td>\n",
       "    </tr>\n",
       "    <tr>\n",
       "      <th>778</th>\n",
       "      <td>2020-02-23</td>\n",
       "      <td>India</td>\n",
       "      <td>0.0</td>\n",
       "      <td>0.0</td>\n",
       "      <td>3</td>\n",
       "      <td>0.0</td>\n",
       "      <td>25</td>\n",
       "      <td>-19</td>\n",
       "    </tr>\n",
       "    <tr>\n",
       "      <th>779</th>\n",
       "      <td>2020-02-24</td>\n",
       "      <td>India</td>\n",
       "      <td>0.0</td>\n",
       "      <td>0.0</td>\n",
       "      <td>3</td>\n",
       "      <td>0.0</td>\n",
       "      <td>26</td>\n",
       "      <td>-18</td>\n",
       "    </tr>\n",
       "    <tr>\n",
       "      <th>780</th>\n",
       "      <td>2020-02-25</td>\n",
       "      <td>India</td>\n",
       "      <td>0.0</td>\n",
       "      <td>0.0</td>\n",
       "      <td>3</td>\n",
       "      <td>0.0</td>\n",
       "      <td>27</td>\n",
       "      <td>-17</td>\n",
       "    </tr>\n",
       "    <tr>\n",
       "      <th>781</th>\n",
       "      <td>2020-02-26</td>\n",
       "      <td>India</td>\n",
       "      <td>0.0</td>\n",
       "      <td>0.0</td>\n",
       "      <td>3</td>\n",
       "      <td>0.0</td>\n",
       "      <td>28</td>\n",
       "      <td>-16</td>\n",
       "    </tr>\n",
       "    <tr>\n",
       "      <th>782</th>\n",
       "      <td>2020-02-27</td>\n",
       "      <td>India</td>\n",
       "      <td>0.0</td>\n",
       "      <td>0.0</td>\n",
       "      <td>3</td>\n",
       "      <td>0.0</td>\n",
       "      <td>29</td>\n",
       "      <td>-15</td>\n",
       "    </tr>\n",
       "    <tr>\n",
       "      <th>783</th>\n",
       "      <td>2020-02-28</td>\n",
       "      <td>India</td>\n",
       "      <td>0.0</td>\n",
       "      <td>0.0</td>\n",
       "      <td>3</td>\n",
       "      <td>0.0</td>\n",
       "      <td>30</td>\n",
       "      <td>-14</td>\n",
       "    </tr>\n",
       "    <tr>\n",
       "      <th>784</th>\n",
       "      <td>2020-02-29</td>\n",
       "      <td>India</td>\n",
       "      <td>0.0</td>\n",
       "      <td>0.0</td>\n",
       "      <td>3</td>\n",
       "      <td>0.0</td>\n",
       "      <td>31</td>\n",
       "      <td>-13</td>\n",
       "    </tr>\n",
       "    <tr>\n",
       "      <th>785</th>\n",
       "      <td>2020-03-01</td>\n",
       "      <td>India</td>\n",
       "      <td>0.0</td>\n",
       "      <td>0.0</td>\n",
       "      <td>3</td>\n",
       "      <td>0.0</td>\n",
       "      <td>32</td>\n",
       "      <td>-12</td>\n",
       "    </tr>\n",
       "    <tr>\n",
       "      <th>786</th>\n",
       "      <td>2020-03-02</td>\n",
       "      <td>India</td>\n",
       "      <td>0.0</td>\n",
       "      <td>0.0</td>\n",
       "      <td>3</td>\n",
       "      <td>0.0</td>\n",
       "      <td>33</td>\n",
       "      <td>-11</td>\n",
       "    </tr>\n",
       "    <tr>\n",
       "      <th>787</th>\n",
       "      <td>2020-03-03</td>\n",
       "      <td>India</td>\n",
       "      <td>2.0</td>\n",
       "      <td>0.0</td>\n",
       "      <td>5</td>\n",
       "      <td>0.0</td>\n",
       "      <td>34</td>\n",
       "      <td>-10</td>\n",
       "    </tr>\n",
       "    <tr>\n",
       "      <th>788</th>\n",
       "      <td>2020-03-04</td>\n",
       "      <td>India</td>\n",
       "      <td>1.0</td>\n",
       "      <td>0.0</td>\n",
       "      <td>6</td>\n",
       "      <td>0.0</td>\n",
       "      <td>35</td>\n",
       "      <td>-9</td>\n",
       "    </tr>\n",
       "    <tr>\n",
       "      <th>789</th>\n",
       "      <td>2020-03-05</td>\n",
       "      <td>India</td>\n",
       "      <td>23.0</td>\n",
       "      <td>0.0</td>\n",
       "      <td>29</td>\n",
       "      <td>0.0</td>\n",
       "      <td>36</td>\n",
       "      <td>-8</td>\n",
       "    </tr>\n",
       "    <tr>\n",
       "      <th>790</th>\n",
       "      <td>2020-03-06</td>\n",
       "      <td>India</td>\n",
       "      <td>1.0</td>\n",
       "      <td>0.0</td>\n",
       "      <td>30</td>\n",
       "      <td>0.0</td>\n",
       "      <td>37</td>\n",
       "      <td>-7</td>\n",
       "    </tr>\n",
       "    <tr>\n",
       "      <th>791</th>\n",
       "      <td>2020-03-07</td>\n",
       "      <td>India</td>\n",
       "      <td>1.0</td>\n",
       "      <td>0.0</td>\n",
       "      <td>31</td>\n",
       "      <td>0.0</td>\n",
       "      <td>38</td>\n",
       "      <td>-6</td>\n",
       "    </tr>\n",
       "    <tr>\n",
       "      <th>792</th>\n",
       "      <td>2020-03-08</td>\n",
       "      <td>India</td>\n",
       "      <td>3.0</td>\n",
       "      <td>0.0</td>\n",
       "      <td>34</td>\n",
       "      <td>0.0</td>\n",
       "      <td>39</td>\n",
       "      <td>-5</td>\n",
       "    </tr>\n",
       "    <tr>\n",
       "      <th>793</th>\n",
       "      <td>2020-03-09</td>\n",
       "      <td>India</td>\n",
       "      <td>9.0</td>\n",
       "      <td>0.0</td>\n",
       "      <td>43</td>\n",
       "      <td>0.0</td>\n",
       "      <td>40</td>\n",
       "      <td>-4</td>\n",
       "    </tr>\n",
       "    <tr>\n",
       "      <th>794</th>\n",
       "      <td>2020-03-10</td>\n",
       "      <td>India</td>\n",
       "      <td>1.0</td>\n",
       "      <td>0.0</td>\n",
       "      <td>44</td>\n",
       "      <td>0.0</td>\n",
       "      <td>41</td>\n",
       "      <td>-3</td>\n",
       "    </tr>\n",
       "    <tr>\n",
       "      <th>795</th>\n",
       "      <td>2020-03-11</td>\n",
       "      <td>India</td>\n",
       "      <td>16.0</td>\n",
       "      <td>0.0</td>\n",
       "      <td>60</td>\n",
       "      <td>0.0</td>\n",
       "      <td>42</td>\n",
       "      <td>-2</td>\n",
       "    </tr>\n",
       "    <tr>\n",
       "      <th>796</th>\n",
       "      <td>2020-03-12</td>\n",
       "      <td>India</td>\n",
       "      <td>13.0</td>\n",
       "      <td>0.0</td>\n",
       "      <td>73</td>\n",
       "      <td>0.0</td>\n",
       "      <td>43</td>\n",
       "      <td>-1</td>\n",
       "    </tr>\n",
       "  </tbody>\n",
       "</table>\n",
       "</div>"
      ],
      "text/plain": [
       "           date location  new_cases  new_deaths  total_cases  total_deaths  \\\n",
       "754  2020-01-30    India        0.0         0.0            1           0.0   \n",
       "755  2020-01-31    India        0.0         0.0            1           0.0   \n",
       "756  2020-02-01    India        0.0         0.0            1           0.0   \n",
       "757  2020-02-02    India        1.0         0.0            2           0.0   \n",
       "758  2020-02-03    India        1.0         0.0            3           0.0   \n",
       "759  2020-02-04    India        0.0         0.0            3           0.0   \n",
       "760  2020-02-05    India        0.0         0.0            3           0.0   \n",
       "761  2020-02-06    India        0.0         0.0            3           0.0   \n",
       "762  2020-02-07    India        0.0         0.0            3           0.0   \n",
       "763  2020-02-08    India        0.0         0.0            3           0.0   \n",
       "764  2020-02-09    India        0.0         0.0            3           0.0   \n",
       "765  2020-02-10    India        0.0         0.0            3           0.0   \n",
       "766  2020-02-11    India        0.0         0.0            3           0.0   \n",
       "767  2020-02-12    India        0.0         0.0            3           0.0   \n",
       "768  2020-02-13    India        0.0         0.0            3           0.0   \n",
       "769  2020-02-14    India        0.0         0.0            3           0.0   \n",
       "770  2020-02-15    India        0.0         0.0            3           0.0   \n",
       "771  2020-02-16    India        0.0         0.0            3           0.0   \n",
       "772  2020-02-17    India        0.0         0.0            3           0.0   \n",
       "773  2020-02-18    India        0.0         0.0            3           0.0   \n",
       "774  2020-02-19    India        0.0         0.0            3           0.0   \n",
       "775  2020-02-20    India        0.0         0.0            3           0.0   \n",
       "776  2020-02-21    India        0.0         0.0            3           0.0   \n",
       "777  2020-02-22    India        0.0         0.0            3           0.0   \n",
       "778  2020-02-23    India        0.0         0.0            3           0.0   \n",
       "779  2020-02-24    India        0.0         0.0            3           0.0   \n",
       "780  2020-02-25    India        0.0         0.0            3           0.0   \n",
       "781  2020-02-26    India        0.0         0.0            3           0.0   \n",
       "782  2020-02-27    India        0.0         0.0            3           0.0   \n",
       "783  2020-02-28    India        0.0         0.0            3           0.0   \n",
       "784  2020-02-29    India        0.0         0.0            3           0.0   \n",
       "785  2020-03-01    India        0.0         0.0            3           0.0   \n",
       "786  2020-03-02    India        0.0         0.0            3           0.0   \n",
       "787  2020-03-03    India        2.0         0.0            5           0.0   \n",
       "788  2020-03-04    India        1.0         0.0            6           0.0   \n",
       "789  2020-03-05    India       23.0         0.0           29           0.0   \n",
       "790  2020-03-06    India        1.0         0.0           30           0.0   \n",
       "791  2020-03-07    India        1.0         0.0           31           0.0   \n",
       "792  2020-03-08    India        3.0         0.0           34           0.0   \n",
       "793  2020-03-09    India        9.0         0.0           43           0.0   \n",
       "794  2020-03-10    India        1.0         0.0           44           0.0   \n",
       "795  2020-03-11    India       16.0         0.0           60           0.0   \n",
       "796  2020-03-12    India       13.0         0.0           73           0.0   \n",
       "\n",
       "     day  reverse_day  \n",
       "754    1          -43  \n",
       "755    2          -42  \n",
       "756    3          -41  \n",
       "757    4          -40  \n",
       "758    5          -39  \n",
       "759    6          -38  \n",
       "760    7          -37  \n",
       "761    8          -36  \n",
       "762    9          -35  \n",
       "763   10          -34  \n",
       "764   11          -33  \n",
       "765   12          -32  \n",
       "766   13          -31  \n",
       "767   14          -30  \n",
       "768   15          -29  \n",
       "769   16          -28  \n",
       "770   17          -27  \n",
       "771   18          -26  \n",
       "772   19          -25  \n",
       "773   20          -24  \n",
       "774   21          -23  \n",
       "775   22          -22  \n",
       "776   23          -21  \n",
       "777   24          -20  \n",
       "778   25          -19  \n",
       "779   26          -18  \n",
       "780   27          -17  \n",
       "781   28          -16  \n",
       "782   29          -15  \n",
       "783   30          -14  \n",
       "784   31          -13  \n",
       "785   32          -12  \n",
       "786   33          -11  \n",
       "787   34          -10  \n",
       "788   35           -9  \n",
       "789   36           -8  \n",
       "790   37           -7  \n",
       "791   38           -6  \n",
       "792   39           -5  \n",
       "793   40           -4  \n",
       "794   41           -3  \n",
       "795   42           -2  \n",
       "796   43           -1  "
      ]
     },
     "execution_count": 5,
     "metadata": {},
     "output_type": "execute_result"
    }
   ],
   "source": [
    "dCV_loc_dict = groupby_column(dCV, 'location')\n",
    "print(dCV_loc_dict['Italy'].shape[0])\n",
    "dCV_country = add_days(dCV_loc_dict)  \n",
    "dCV_country['India']"
   ]
  },
  {
   "cell_type": "code",
   "execution_count": 6,
   "metadata": {},
   "outputs": [
    {
     "data": {
      "text/html": [
       "<div>\n",
       "<style scoped>\n",
       "    .dataframe tbody tr th:only-of-type {\n",
       "        vertical-align: middle;\n",
       "    }\n",
       "\n",
       "    .dataframe tbody tr th {\n",
       "        vertical-align: top;\n",
       "    }\n",
       "\n",
       "    .dataframe thead th {\n",
       "        text-align: right;\n",
       "    }\n",
       "</style>\n",
       "<table border=\"1\" class=\"dataframe\">\n",
       "  <thead>\n",
       "    <tr style=\"text-align: right;\">\n",
       "      <th></th>\n",
       "      <th>date</th>\n",
       "      <th>location</th>\n",
       "      <th>new_cases</th>\n",
       "      <th>new_deaths</th>\n",
       "      <th>total_cases</th>\n",
       "      <th>total_deaths</th>\n",
       "      <th>day</th>\n",
       "      <th>reverse_day</th>\n",
       "    </tr>\n",
       "  </thead>\n",
       "  <tbody>\n",
       "    <tr>\n",
       "      <th>1688</th>\n",
       "      <td>2020-02-01</td>\n",
       "      <td>Spain</td>\n",
       "      <td>0.0</td>\n",
       "      <td>0.0</td>\n",
       "      <td>1</td>\n",
       "      <td>0.0</td>\n",
       "      <td>1</td>\n",
       "      <td>-41</td>\n",
       "    </tr>\n",
       "    <tr>\n",
       "      <th>1689</th>\n",
       "      <td>2020-02-02</td>\n",
       "      <td>Spain</td>\n",
       "      <td>0.0</td>\n",
       "      <td>0.0</td>\n",
       "      <td>1</td>\n",
       "      <td>0.0</td>\n",
       "      <td>2</td>\n",
       "      <td>-40</td>\n",
       "    </tr>\n",
       "    <tr>\n",
       "      <th>1690</th>\n",
       "      <td>2020-02-03</td>\n",
       "      <td>Spain</td>\n",
       "      <td>0.0</td>\n",
       "      <td>0.0</td>\n",
       "      <td>1</td>\n",
       "      <td>0.0</td>\n",
       "      <td>3</td>\n",
       "      <td>-39</td>\n",
       "    </tr>\n",
       "    <tr>\n",
       "      <th>1691</th>\n",
       "      <td>2020-02-04</td>\n",
       "      <td>Spain</td>\n",
       "      <td>0.0</td>\n",
       "      <td>0.0</td>\n",
       "      <td>1</td>\n",
       "      <td>0.0</td>\n",
       "      <td>4</td>\n",
       "      <td>-38</td>\n",
       "    </tr>\n",
       "    <tr>\n",
       "      <th>1692</th>\n",
       "      <td>2020-02-05</td>\n",
       "      <td>Spain</td>\n",
       "      <td>0.0</td>\n",
       "      <td>0.0</td>\n",
       "      <td>1</td>\n",
       "      <td>0.0</td>\n",
       "      <td>5</td>\n",
       "      <td>-37</td>\n",
       "    </tr>\n",
       "    <tr>\n",
       "      <th>1693</th>\n",
       "      <td>2020-02-06</td>\n",
       "      <td>Spain</td>\n",
       "      <td>0.0</td>\n",
       "      <td>0.0</td>\n",
       "      <td>1</td>\n",
       "      <td>0.0</td>\n",
       "      <td>6</td>\n",
       "      <td>-36</td>\n",
       "    </tr>\n",
       "    <tr>\n",
       "      <th>1694</th>\n",
       "      <td>2020-02-07</td>\n",
       "      <td>Spain</td>\n",
       "      <td>0.0</td>\n",
       "      <td>0.0</td>\n",
       "      <td>1</td>\n",
       "      <td>0.0</td>\n",
       "      <td>7</td>\n",
       "      <td>-35</td>\n",
       "    </tr>\n",
       "    <tr>\n",
       "      <th>1695</th>\n",
       "      <td>2020-02-08</td>\n",
       "      <td>Spain</td>\n",
       "      <td>0.0</td>\n",
       "      <td>0.0</td>\n",
       "      <td>1</td>\n",
       "      <td>0.0</td>\n",
       "      <td>8</td>\n",
       "      <td>-34</td>\n",
       "    </tr>\n",
       "    <tr>\n",
       "      <th>1696</th>\n",
       "      <td>2020-02-09</td>\n",
       "      <td>Spain</td>\n",
       "      <td>0.0</td>\n",
       "      <td>0.0</td>\n",
       "      <td>1</td>\n",
       "      <td>0.0</td>\n",
       "      <td>9</td>\n",
       "      <td>-33</td>\n",
       "    </tr>\n",
       "    <tr>\n",
       "      <th>1697</th>\n",
       "      <td>2020-02-10</td>\n",
       "      <td>Spain</td>\n",
       "      <td>1.0</td>\n",
       "      <td>0.0</td>\n",
       "      <td>2</td>\n",
       "      <td>0.0</td>\n",
       "      <td>10</td>\n",
       "      <td>-32</td>\n",
       "    </tr>\n",
       "    <tr>\n",
       "      <th>1698</th>\n",
       "      <td>2020-02-11</td>\n",
       "      <td>Spain</td>\n",
       "      <td>0.0</td>\n",
       "      <td>0.0</td>\n",
       "      <td>2</td>\n",
       "      <td>0.0</td>\n",
       "      <td>11</td>\n",
       "      <td>-31</td>\n",
       "    </tr>\n",
       "    <tr>\n",
       "      <th>1699</th>\n",
       "      <td>2020-02-12</td>\n",
       "      <td>Spain</td>\n",
       "      <td>0.0</td>\n",
       "      <td>0.0</td>\n",
       "      <td>2</td>\n",
       "      <td>0.0</td>\n",
       "      <td>12</td>\n",
       "      <td>-30</td>\n",
       "    </tr>\n",
       "    <tr>\n",
       "      <th>1700</th>\n",
       "      <td>2020-02-13</td>\n",
       "      <td>Spain</td>\n",
       "      <td>0.0</td>\n",
       "      <td>0.0</td>\n",
       "      <td>2</td>\n",
       "      <td>0.0</td>\n",
       "      <td>13</td>\n",
       "      <td>-29</td>\n",
       "    </tr>\n",
       "    <tr>\n",
       "      <th>1701</th>\n",
       "      <td>2020-02-14</td>\n",
       "      <td>Spain</td>\n",
       "      <td>0.0</td>\n",
       "      <td>0.0</td>\n",
       "      <td>2</td>\n",
       "      <td>0.0</td>\n",
       "      <td>14</td>\n",
       "      <td>-28</td>\n",
       "    </tr>\n",
       "    <tr>\n",
       "      <th>1702</th>\n",
       "      <td>2020-02-15</td>\n",
       "      <td>Spain</td>\n",
       "      <td>0.0</td>\n",
       "      <td>0.0</td>\n",
       "      <td>2</td>\n",
       "      <td>0.0</td>\n",
       "      <td>15</td>\n",
       "      <td>-27</td>\n",
       "    </tr>\n",
       "    <tr>\n",
       "      <th>1703</th>\n",
       "      <td>2020-02-16</td>\n",
       "      <td>Spain</td>\n",
       "      <td>0.0</td>\n",
       "      <td>0.0</td>\n",
       "      <td>2</td>\n",
       "      <td>0.0</td>\n",
       "      <td>16</td>\n",
       "      <td>-26</td>\n",
       "    </tr>\n",
       "    <tr>\n",
       "      <th>1704</th>\n",
       "      <td>2020-02-17</td>\n",
       "      <td>Spain</td>\n",
       "      <td>0.0</td>\n",
       "      <td>0.0</td>\n",
       "      <td>2</td>\n",
       "      <td>0.0</td>\n",
       "      <td>17</td>\n",
       "      <td>-25</td>\n",
       "    </tr>\n",
       "    <tr>\n",
       "      <th>1705</th>\n",
       "      <td>2020-02-18</td>\n",
       "      <td>Spain</td>\n",
       "      <td>0.0</td>\n",
       "      <td>0.0</td>\n",
       "      <td>2</td>\n",
       "      <td>0.0</td>\n",
       "      <td>18</td>\n",
       "      <td>-24</td>\n",
       "    </tr>\n",
       "    <tr>\n",
       "      <th>1706</th>\n",
       "      <td>2020-02-19</td>\n",
       "      <td>Spain</td>\n",
       "      <td>0.0</td>\n",
       "      <td>0.0</td>\n",
       "      <td>2</td>\n",
       "      <td>0.0</td>\n",
       "      <td>19</td>\n",
       "      <td>-23</td>\n",
       "    </tr>\n",
       "    <tr>\n",
       "      <th>1707</th>\n",
       "      <td>2020-02-20</td>\n",
       "      <td>Spain</td>\n",
       "      <td>0.0</td>\n",
       "      <td>0.0</td>\n",
       "      <td>2</td>\n",
       "      <td>0.0</td>\n",
       "      <td>20</td>\n",
       "      <td>-22</td>\n",
       "    </tr>\n",
       "    <tr>\n",
       "      <th>1708</th>\n",
       "      <td>2020-02-21</td>\n",
       "      <td>Spain</td>\n",
       "      <td>0.0</td>\n",
       "      <td>0.0</td>\n",
       "      <td>2</td>\n",
       "      <td>0.0</td>\n",
       "      <td>21</td>\n",
       "      <td>-21</td>\n",
       "    </tr>\n",
       "    <tr>\n",
       "      <th>1709</th>\n",
       "      <td>2020-02-22</td>\n",
       "      <td>Spain</td>\n",
       "      <td>0.0</td>\n",
       "      <td>0.0</td>\n",
       "      <td>2</td>\n",
       "      <td>0.0</td>\n",
       "      <td>22</td>\n",
       "      <td>-20</td>\n",
       "    </tr>\n",
       "    <tr>\n",
       "      <th>1710</th>\n",
       "      <td>2020-02-23</td>\n",
       "      <td>Spain</td>\n",
       "      <td>0.0</td>\n",
       "      <td>0.0</td>\n",
       "      <td>2</td>\n",
       "      <td>0.0</td>\n",
       "      <td>23</td>\n",
       "      <td>-19</td>\n",
       "    </tr>\n",
       "    <tr>\n",
       "      <th>1711</th>\n",
       "      <td>2020-02-24</td>\n",
       "      <td>Spain</td>\n",
       "      <td>0.0</td>\n",
       "      <td>0.0</td>\n",
       "      <td>2</td>\n",
       "      <td>0.0</td>\n",
       "      <td>24</td>\n",
       "      <td>-18</td>\n",
       "    </tr>\n",
       "    <tr>\n",
       "      <th>1712</th>\n",
       "      <td>2020-02-25</td>\n",
       "      <td>Spain</td>\n",
       "      <td>0.0</td>\n",
       "      <td>0.0</td>\n",
       "      <td>2</td>\n",
       "      <td>0.0</td>\n",
       "      <td>25</td>\n",
       "      <td>-17</td>\n",
       "    </tr>\n",
       "    <tr>\n",
       "      <th>1713</th>\n",
       "      <td>2020-02-26</td>\n",
       "      <td>Spain</td>\n",
       "      <td>0.0</td>\n",
       "      <td>0.0</td>\n",
       "      <td>2</td>\n",
       "      <td>0.0</td>\n",
       "      <td>26</td>\n",
       "      <td>-16</td>\n",
       "    </tr>\n",
       "    <tr>\n",
       "      <th>1714</th>\n",
       "      <td>2020-02-27</td>\n",
       "      <td>Spain</td>\n",
       "      <td>10.0</td>\n",
       "      <td>0.0</td>\n",
       "      <td>12</td>\n",
       "      <td>0.0</td>\n",
       "      <td>27</td>\n",
       "      <td>-15</td>\n",
       "    </tr>\n",
       "    <tr>\n",
       "      <th>1715</th>\n",
       "      <td>2020-02-28</td>\n",
       "      <td>Spain</td>\n",
       "      <td>13.0</td>\n",
       "      <td>0.0</td>\n",
       "      <td>25</td>\n",
       "      <td>0.0</td>\n",
       "      <td>28</td>\n",
       "      <td>-14</td>\n",
       "    </tr>\n",
       "    <tr>\n",
       "      <th>1716</th>\n",
       "      <td>2020-02-29</td>\n",
       "      <td>Spain</td>\n",
       "      <td>7.0</td>\n",
       "      <td>0.0</td>\n",
       "      <td>32</td>\n",
       "      <td>0.0</td>\n",
       "      <td>29</td>\n",
       "      <td>-13</td>\n",
       "    </tr>\n",
       "    <tr>\n",
       "      <th>1717</th>\n",
       "      <td>2020-03-01</td>\n",
       "      <td>Spain</td>\n",
       "      <td>13.0</td>\n",
       "      <td>0.0</td>\n",
       "      <td>45</td>\n",
       "      <td>0.0</td>\n",
       "      <td>30</td>\n",
       "      <td>-12</td>\n",
       "    </tr>\n",
       "    <tr>\n",
       "      <th>1718</th>\n",
       "      <td>2020-03-02</td>\n",
       "      <td>Spain</td>\n",
       "      <td>0.0</td>\n",
       "      <td>0.0</td>\n",
       "      <td>45</td>\n",
       "      <td>0.0</td>\n",
       "      <td>31</td>\n",
       "      <td>-11</td>\n",
       "    </tr>\n",
       "    <tr>\n",
       "      <th>1719</th>\n",
       "      <td>2020-03-03</td>\n",
       "      <td>Spain</td>\n",
       "      <td>69.0</td>\n",
       "      <td>0.0</td>\n",
       "      <td>114</td>\n",
       "      <td>0.0</td>\n",
       "      <td>32</td>\n",
       "      <td>-10</td>\n",
       "    </tr>\n",
       "    <tr>\n",
       "      <th>1720</th>\n",
       "      <td>2020-03-04</td>\n",
       "      <td>Spain</td>\n",
       "      <td>37.0</td>\n",
       "      <td>0.0</td>\n",
       "      <td>151</td>\n",
       "      <td>0.0</td>\n",
       "      <td>33</td>\n",
       "      <td>-9</td>\n",
       "    </tr>\n",
       "    <tr>\n",
       "      <th>1721</th>\n",
       "      <td>2020-03-05</td>\n",
       "      <td>Spain</td>\n",
       "      <td>47.0</td>\n",
       "      <td>0.0</td>\n",
       "      <td>198</td>\n",
       "      <td>1.0</td>\n",
       "      <td>34</td>\n",
       "      <td>-8</td>\n",
       "    </tr>\n",
       "    <tr>\n",
       "      <th>1722</th>\n",
       "      <td>2020-03-06</td>\n",
       "      <td>Spain</td>\n",
       "      <td>59.0</td>\n",
       "      <td>2.0</td>\n",
       "      <td>257</td>\n",
       "      <td>3.0</td>\n",
       "      <td>35</td>\n",
       "      <td>-7</td>\n",
       "    </tr>\n",
       "    <tr>\n",
       "      <th>1723</th>\n",
       "      <td>2020-03-07</td>\n",
       "      <td>Spain</td>\n",
       "      <td>117.0</td>\n",
       "      <td>2.0</td>\n",
       "      <td>374</td>\n",
       "      <td>5.0</td>\n",
       "      <td>36</td>\n",
       "      <td>-6</td>\n",
       "    </tr>\n",
       "    <tr>\n",
       "      <th>1724</th>\n",
       "      <td>2020-03-08</td>\n",
       "      <td>Spain</td>\n",
       "      <td>56.0</td>\n",
       "      <td>0.0</td>\n",
       "      <td>430</td>\n",
       "      <td>5.0</td>\n",
       "      <td>37</td>\n",
       "      <td>-5</td>\n",
       "    </tr>\n",
       "    <tr>\n",
       "      <th>1725</th>\n",
       "      <td>2020-03-09</td>\n",
       "      <td>Spain</td>\n",
       "      <td>159.0</td>\n",
       "      <td>5.0</td>\n",
       "      <td>589</td>\n",
       "      <td>10.0</td>\n",
       "      <td>38</td>\n",
       "      <td>-4</td>\n",
       "    </tr>\n",
       "    <tr>\n",
       "      <th>1726</th>\n",
       "      <td>2020-03-10</td>\n",
       "      <td>Spain</td>\n",
       "      <td>435.0</td>\n",
       "      <td>18.0</td>\n",
       "      <td>1024</td>\n",
       "      <td>28.0</td>\n",
       "      <td>39</td>\n",
       "      <td>-3</td>\n",
       "    </tr>\n",
       "    <tr>\n",
       "      <th>1727</th>\n",
       "      <td>2020-03-11</td>\n",
       "      <td>Spain</td>\n",
       "      <td>615.0</td>\n",
       "      <td>8.0</td>\n",
       "      <td>1639</td>\n",
       "      <td>36.0</td>\n",
       "      <td>40</td>\n",
       "      <td>-2</td>\n",
       "    </tr>\n",
       "    <tr>\n",
       "      <th>1728</th>\n",
       "      <td>2020-03-12</td>\n",
       "      <td>Spain</td>\n",
       "      <td>501.0</td>\n",
       "      <td>12.0</td>\n",
       "      <td>2140</td>\n",
       "      <td>48.0</td>\n",
       "      <td>41</td>\n",
       "      <td>-1</td>\n",
       "    </tr>\n",
       "  </tbody>\n",
       "</table>\n",
       "</div>"
      ],
      "text/plain": [
       "            date location  new_cases  new_deaths  total_cases  total_deaths  \\\n",
       "1688  2020-02-01    Spain        0.0         0.0            1           0.0   \n",
       "1689  2020-02-02    Spain        0.0         0.0            1           0.0   \n",
       "1690  2020-02-03    Spain        0.0         0.0            1           0.0   \n",
       "1691  2020-02-04    Spain        0.0         0.0            1           0.0   \n",
       "1692  2020-02-05    Spain        0.0         0.0            1           0.0   \n",
       "1693  2020-02-06    Spain        0.0         0.0            1           0.0   \n",
       "1694  2020-02-07    Spain        0.0         0.0            1           0.0   \n",
       "1695  2020-02-08    Spain        0.0         0.0            1           0.0   \n",
       "1696  2020-02-09    Spain        0.0         0.0            1           0.0   \n",
       "1697  2020-02-10    Spain        1.0         0.0            2           0.0   \n",
       "1698  2020-02-11    Spain        0.0         0.0            2           0.0   \n",
       "1699  2020-02-12    Spain        0.0         0.0            2           0.0   \n",
       "1700  2020-02-13    Spain        0.0         0.0            2           0.0   \n",
       "1701  2020-02-14    Spain        0.0         0.0            2           0.0   \n",
       "1702  2020-02-15    Spain        0.0         0.0            2           0.0   \n",
       "1703  2020-02-16    Spain        0.0         0.0            2           0.0   \n",
       "1704  2020-02-17    Spain        0.0         0.0            2           0.0   \n",
       "1705  2020-02-18    Spain        0.0         0.0            2           0.0   \n",
       "1706  2020-02-19    Spain        0.0         0.0            2           0.0   \n",
       "1707  2020-02-20    Spain        0.0         0.0            2           0.0   \n",
       "1708  2020-02-21    Spain        0.0         0.0            2           0.0   \n",
       "1709  2020-02-22    Spain        0.0         0.0            2           0.0   \n",
       "1710  2020-02-23    Spain        0.0         0.0            2           0.0   \n",
       "1711  2020-02-24    Spain        0.0         0.0            2           0.0   \n",
       "1712  2020-02-25    Spain        0.0         0.0            2           0.0   \n",
       "1713  2020-02-26    Spain        0.0         0.0            2           0.0   \n",
       "1714  2020-02-27    Spain       10.0         0.0           12           0.0   \n",
       "1715  2020-02-28    Spain       13.0         0.0           25           0.0   \n",
       "1716  2020-02-29    Spain        7.0         0.0           32           0.0   \n",
       "1717  2020-03-01    Spain       13.0         0.0           45           0.0   \n",
       "1718  2020-03-02    Spain        0.0         0.0           45           0.0   \n",
       "1719  2020-03-03    Spain       69.0         0.0          114           0.0   \n",
       "1720  2020-03-04    Spain       37.0         0.0          151           0.0   \n",
       "1721  2020-03-05    Spain       47.0         0.0          198           1.0   \n",
       "1722  2020-03-06    Spain       59.0         2.0          257           3.0   \n",
       "1723  2020-03-07    Spain      117.0         2.0          374           5.0   \n",
       "1724  2020-03-08    Spain       56.0         0.0          430           5.0   \n",
       "1725  2020-03-09    Spain      159.0         5.0          589          10.0   \n",
       "1726  2020-03-10    Spain      435.0        18.0         1024          28.0   \n",
       "1727  2020-03-11    Spain      615.0         8.0         1639          36.0   \n",
       "1728  2020-03-12    Spain      501.0        12.0         2140          48.0   \n",
       "\n",
       "      day  reverse_day  \n",
       "1688    1          -41  \n",
       "1689    2          -40  \n",
       "1690    3          -39  \n",
       "1691    4          -38  \n",
       "1692    5          -37  \n",
       "1693    6          -36  \n",
       "1694    7          -35  \n",
       "1695    8          -34  \n",
       "1696    9          -33  \n",
       "1697   10          -32  \n",
       "1698   11          -31  \n",
       "1699   12          -30  \n",
       "1700   13          -29  \n",
       "1701   14          -28  \n",
       "1702   15          -27  \n",
       "1703   16          -26  \n",
       "1704   17          -25  \n",
       "1705   18          -24  \n",
       "1706   19          -23  \n",
       "1707   20          -22  \n",
       "1708   21          -21  \n",
       "1709   22          -20  \n",
       "1710   23          -19  \n",
       "1711   24          -18  \n",
       "1712   25          -17  \n",
       "1713   26          -16  \n",
       "1714   27          -15  \n",
       "1715   28          -14  \n",
       "1716   29          -13  \n",
       "1717   30          -12  \n",
       "1718   31          -11  \n",
       "1719   32          -10  \n",
       "1720   33           -9  \n",
       "1721   34           -8  \n",
       "1722   35           -7  \n",
       "1723   36           -6  \n",
       "1724   37           -5  \n",
       "1725   38           -4  \n",
       "1726   39           -3  \n",
       "1727   40           -2  \n",
       "1728   41           -1  "
      ]
     },
     "execution_count": 6,
     "metadata": {},
     "output_type": "execute_result"
    }
   ],
   "source": [
    "dCV_country['Spain']"
   ]
  },
  {
   "cell_type": "code",
   "execution_count": 7,
   "metadata": {},
   "outputs": [
    {
     "name": "stderr",
     "output_type": "stream",
     "text": [
      "/Users/fpil/anaconda3/lib/python3.7/site-packages/ipykernel_launcher.py:16: SettingWithCopyWarning: \n",
      "A value is trying to be set on a copy of a slice from a DataFrame.\n",
      "Try using .loc[row_indexer,col_indexer] = value instead\n",
      "\n",
      "See the caveats in the documentation: http://pandas.pydata.org/pandas-docs/stable/user_guide/indexing.html#returning-a-view-versus-a-copy\n",
      "  app.launch_new_instance()\n"
     ]
    },
    {
     "data": {
      "text/html": [
       "<div>\n",
       "<style scoped>\n",
       "    .dataframe tbody tr th:only-of-type {\n",
       "        vertical-align: middle;\n",
       "    }\n",
       "\n",
       "    .dataframe tbody tr th {\n",
       "        vertical-align: top;\n",
       "    }\n",
       "\n",
       "    .dataframe thead th {\n",
       "        text-align: right;\n",
       "    }\n",
       "</style>\n",
       "<table border=\"1\" class=\"dataframe\">\n",
       "  <thead>\n",
       "    <tr style=\"text-align: right;\">\n",
       "      <th></th>\n",
       "      <th>date</th>\n",
       "      <th>location</th>\n",
       "      <th>new_cases</th>\n",
       "      <th>new_deaths</th>\n",
       "      <th>total_cases</th>\n",
       "      <th>total_deaths</th>\n",
       "      <th>day</th>\n",
       "      <th>reverse_day</th>\n",
       "      <th>log_total_cases</th>\n",
       "      <th>log_day</th>\n",
       "    </tr>\n",
       "  </thead>\n",
       "  <tbody>\n",
       "    <tr>\n",
       "      <th>754</th>\n",
       "      <td>2020-01-30</td>\n",
       "      <td>India</td>\n",
       "      <td>0.0</td>\n",
       "      <td>0.0</td>\n",
       "      <td>1</td>\n",
       "      <td>0.0</td>\n",
       "      <td>1</td>\n",
       "      <td>-43</td>\n",
       "      <td>0.000000</td>\n",
       "      <td>0.000000</td>\n",
       "    </tr>\n",
       "    <tr>\n",
       "      <th>755</th>\n",
       "      <td>2020-01-31</td>\n",
       "      <td>India</td>\n",
       "      <td>0.0</td>\n",
       "      <td>0.0</td>\n",
       "      <td>1</td>\n",
       "      <td>0.0</td>\n",
       "      <td>2</td>\n",
       "      <td>-42</td>\n",
       "      <td>0.000000</td>\n",
       "      <td>0.693147</td>\n",
       "    </tr>\n",
       "    <tr>\n",
       "      <th>756</th>\n",
       "      <td>2020-02-01</td>\n",
       "      <td>India</td>\n",
       "      <td>0.0</td>\n",
       "      <td>0.0</td>\n",
       "      <td>1</td>\n",
       "      <td>0.0</td>\n",
       "      <td>3</td>\n",
       "      <td>-41</td>\n",
       "      <td>0.000000</td>\n",
       "      <td>1.098612</td>\n",
       "    </tr>\n",
       "    <tr>\n",
       "      <th>757</th>\n",
       "      <td>2020-02-02</td>\n",
       "      <td>India</td>\n",
       "      <td>1.0</td>\n",
       "      <td>0.0</td>\n",
       "      <td>2</td>\n",
       "      <td>0.0</td>\n",
       "      <td>4</td>\n",
       "      <td>-40</td>\n",
       "      <td>0.693147</td>\n",
       "      <td>1.386294</td>\n",
       "    </tr>\n",
       "    <tr>\n",
       "      <th>758</th>\n",
       "      <td>2020-02-03</td>\n",
       "      <td>India</td>\n",
       "      <td>1.0</td>\n",
       "      <td>0.0</td>\n",
       "      <td>3</td>\n",
       "      <td>0.0</td>\n",
       "      <td>5</td>\n",
       "      <td>-39</td>\n",
       "      <td>1.098612</td>\n",
       "      <td>1.609438</td>\n",
       "    </tr>\n",
       "  </tbody>\n",
       "</table>\n",
       "</div>"
      ],
      "text/plain": [
       "           date location  new_cases  new_deaths  total_cases  total_deaths  \\\n",
       "754  2020-01-30    India        0.0         0.0            1           0.0   \n",
       "755  2020-01-31    India        0.0         0.0            1           0.0   \n",
       "756  2020-02-01    India        0.0         0.0            1           0.0   \n",
       "757  2020-02-02    India        1.0         0.0            2           0.0   \n",
       "758  2020-02-03    India        1.0         0.0            3           0.0   \n",
       "\n",
       "     day  reverse_day  log_total_cases   log_day  \n",
       "754    1          -43         0.000000  0.000000  \n",
       "755    2          -42         0.000000  0.693147  \n",
       "756    3          -41         0.000000  1.098612  \n",
       "757    4          -40         0.693147  1.386294  \n",
       "758    5          -39         1.098612  1.609438  "
      ]
     },
     "execution_count": 7,
     "metadata": {},
     "output_type": "execute_result"
    }
   ],
   "source": [
    "dCV_country = add_log(dCV_country, 'total_cases')\n",
    "dCV_country = add_log(dCV_country, 'day')\n",
    "dCV_country['India'].head()"
   ]
  },
  {
   "cell_type": "code",
   "execution_count": 8,
   "metadata": {},
   "outputs": [
    {
     "data": {
      "image/png": "[encoded data removed]",
      "text/plain": [
       "<Figure size 432x288 with 1 Axes>"
      ]
     },
     "metadata": {
      "needs_background": "light"
     },
     "output_type": "display_data"
    },
    {
     "data": {
      "image/png": "[encoded data removed]",
      "text/plain": [
       "<Figure size 432x288 with 1 Axes>"
      ]
     },
     "metadata": {
      "needs_background": "light"
     },
     "output_type": "display_data"
    },
    {
     "data": {
      "image/png": "[encoded data removed]",
      "text/plain": [
       "<Figure size 432x288 with 1 Axes>"
      ]
     },
     "metadata": {
      "needs_background": "light"
     },
     "output_type": "display_data"
    }
   ],
   "source": [
    "dCV_country['Italy'].plot(kind='scatter',x='day',y='total_cases',color='red')\n",
    "plt.show()\n",
    "dCV_country['Italy'].plot(kind='scatter',x='log_day',y='log_total_cases',color='red')\n",
    "plt.show()\n",
    "dCV_country['Italy'].plot(kind='scatter',x='reverse_day',y='log_total_cases',color='red')\n",
    "plt.show()"
   ]
  },
  {
   "cell_type": "code",
   "execution_count": 9,
   "metadata": {},
   "outputs": [
    {
     "data": {
      "text/plain": [
       "<matplotlib.axes._subplots.AxesSubplot at 0x119452128>"
      ]
     },
     "execution_count": 9,
     "metadata": {},
     "output_type": "execute_result"
    },
    {
     "data": {
      "image/png": "[encoded data removed]",
      "text/plain": [
       "<Figure size 432x288 with 1 Axes>"
      ]
     },
     "metadata": {
      "needs_background": "light"
     },
     "output_type": "display_data"
    },
    {
     "data": {
      "image/png": "[encoded data removed]",
      "text/plain": [
       "<Figure size 432x288 with 1 Axes>"
      ]
     },
     "metadata": {
      "needs_background": "light"
     },
     "output_type": "display_data"
    }
   ],
   "source": [
    "dCV_country['India'].plot(kind='scatter',x='reverse_day',y='log_total_cases',color='red')\n",
    "dCV_country['Italy'].plot(kind='scatter',x='reverse_day',y='log_total_cases',color='red')\n"
   ]
  },
  {
   "cell_type": "code",
   "execution_count": null,
   "metadata": {},
   "outputs": [],
   "source": []
  },
  {
   "cell_type": "code",
   "execution_count": 10,
   "metadata": {},
   "outputs": [
    {
     "data": {
      "text/html": [
       "<div>\n",
       "<style scoped>\n",
       "    .dataframe tbody tr th:only-of-type {\n",
       "        vertical-align: middle;\n",
       "    }\n",
       "\n",
       "    .dataframe tbody tr th {\n",
       "        vertical-align: top;\n",
       "    }\n",
       "\n",
       "    .dataframe thead th {\n",
       "        text-align: right;\n",
       "    }\n",
       "</style>\n",
       "<table border=\"1\" class=\"dataframe\">\n",
       "  <thead>\n",
       "    <tr style=\"text-align: right;\">\n",
       "      <th></th>\n",
       "      <th>date</th>\n",
       "      <th>location</th>\n",
       "      <th>new_cases</th>\n",
       "      <th>new_deaths</th>\n",
       "      <th>total_cases</th>\n",
       "      <th>total_deaths</th>\n",
       "      <th>day</th>\n",
       "      <th>reverse_day</th>\n",
       "      <th>log_total_cases</th>\n",
       "      <th>log_day</th>\n",
       "    </tr>\n",
       "  </thead>\n",
       "  <tbody>\n",
       "  </tbody>\n",
       "</table>\n",
       "</div>"
      ],
      "text/plain": [
       "Empty DataFrame\n",
       "Columns: [date, location, new_cases, new_deaths, total_cases, total_deaths, day, reverse_day, log_total_cases, log_day]\n",
       "Index: []"
      ]
     },
     "execution_count": 10,
     "metadata": {},
     "output_type": "execute_result"
    }
   ],
   "source": [
    "def get_data_from_ndays(df_dict, ndays = 30):\n",
    "    df_subdict = {}\n",
    "    for key in df_dict.keys():\n",
    "        df_subdict[key] = df_dict[key].loc[df_dict[key]['day']>=ndays]\n",
    "    return df_subdict\n",
    "dCVsub_country = get_data_from_ndays(dCV_country)\n",
    "dCVsub_country['Iran']"
   ]
  },
  {
   "cell_type": "code",
   "execution_count": 11,
   "metadata": {},
   "outputs": [
    {
     "data": {
      "image/png": "[encoded data removed]",
      "text/plain": [
       "<Figure size 432x288 with 1 Axes>"
      ]
     },
     "metadata": {
      "needs_background": "light"
     },
     "output_type": "display_data"
    },
    {
     "data": {
      "image/png": "[encoded data removed]",
      "text/plain": [
       "<Figure size 432x288 with 1 Axes>"
      ]
     },
     "metadata": {
      "needs_background": "light"
     },
     "output_type": "display_data"
    },
    {
     "data": {
      "image/png": "[encoded data removed]",
      "text/plain": [
       "<Figure size 432x288 with 1 Axes>"
      ]
     },
     "metadata": {
      "needs_background": "light"
     },
     "output_type": "display_data"
    }
   ],
   "source": [
    "dCV_country['United Kingdom'].plot(kind='scatter',x='day',y='total_cases',color='red')\n",
    "plt.show()\n",
    "dCV_country['United Kingdom'].plot(kind='scatter',x='log_day',y='log_total_cases',color='red')\n",
    "plt.show()\n",
    "dCV_country['United Kingdom'].plot(kind='scatter',x='reverse_day',y='log_total_cases',color='red')\n",
    "plt.show()"
   ]
  },
  {
   "cell_type": "code",
   "execution_count": 12,
   "metadata": {},
   "outputs": [
    {
     "data": {
      "image/png": "[encoded data removed]",
      "text/plain": [
       "<Figure size 432x288 with 1 Axes>"
      ]
     },
     "metadata": {
      "needs_background": "light"
     },
     "output_type": "display_data"
    },
    {
     "data": {
      "image/png": "[encoded data removed]",
      "text/plain": [
       "<Figure size 432x288 with 1 Axes>"
      ]
     },
     "metadata": {
      "needs_background": "light"
     },
     "output_type": "display_data"
    },
    {
     "data": {
      "image/png": "[encoded data removed]",
      "text/plain": [
       "<Figure size 432x288 with 1 Axes>"
      ]
     },
     "metadata": {
      "needs_background": "light"
     },
     "output_type": "display_data"
    }
   ],
   "source": [
    "dCVsub_country['United Kingdom'].plot(kind='scatter',x='day',y='total_cases',color='red')\n",
    "plt.show()\n",
    "dCVsub_country['United Kingdom'].plot(kind='scatter',x='log_day',y='log_total_cases',color='red')\n",
    "plt.show()\n",
    "dCVsub_country['United Kingdom'].plot(kind='scatter',x='reverse_day',y='total_cases',color='red')\n",
    "plt.show()"
   ]
  },
  {
   "cell_type": "code",
   "execution_count": 13,
   "metadata": {},
   "outputs": [],
   "source": [
    "from sklearn.linear_model import LinearRegression\n",
    "def linear_model(df, country='India'):\n",
    "    model = LinearRegression()\n",
    "    x = np.array(df[country]['day']).reshape(-1,1)\n",
    "    y = np.array(df[country]['log_total_cases']).reshape(-1,1)\n",
    "    model.fit(x, y)\n",
    "    x_new = np.linspace(30,45,16)\n",
    "    y_new = model.predict(x_new.reshape(-1,1))\n",
    "    next_three = list(np.exp(y_new.reshape(-1,1))[-3:])\n",
    "    print(f'The estimated number of cases in next 3 days are {next_three}')\n",
    "    # plot the results\n",
    "    plt.plot(x, y, 'x', label = 'actual')\n",
    "    intercept = float(model.intercept_[0])\n",
    "    slope = float(model.coef_[0])\n",
    "    plt.plot(x_new, y_new, 'b', label = 'y = {:.2f} + {:.2f}*x'.format(intercept, slope)) \n",
    "    plt.xlabel('days')\n",
    "    plt.ylabel('log_total_cases')\n",
    "    plt.legend(loc=\"upper left\")\n",
    "    plt.show()\n",
    "    return model"
   ]
  },
  {
   "cell_type": "code",
   "execution_count": 14,
   "metadata": {},
   "outputs": [
    {
     "name": "stdout",
     "output_type": "stream",
     "text": [
      "The estimated number of cases in next 3 days are [array([95.41156095]), array([127.46876475]), array([170.29682593])]\n"
     ]
    },
    {
     "data": {
      "image/png": "[encoded data removed]",
      "text/plain": [
       "<Figure size 432x288 with 1 Axes>"
      ]
     },
     "metadata": {
      "needs_background": "light"
     },
     "output_type": "display_data"
    }
   ],
   "source": [
    "model = linear_model(dCVsub_country, 'India')"
   ]
  },
  {
   "cell_type": "code",
   "execution_count": 15,
   "metadata": {},
   "outputs": [
    {
     "name": "stderr",
     "output_type": "stream",
     "text": [
      "/Users/fpil/anaconda3/lib/python3.7/site-packages/scipy/stats/stats.py:1713: FutureWarning: Using a non-tuple sequence for multidimensional indexing is deprecated; use `arr[tuple(seq)]` instead of `arr[seq]`. In the future this will be interpreted as an array index, `arr[np.array(seq)]`, which will result either in an error or a different result.\n",
      "  return np.add.reduce(sorted[indexer] * weights, axis=axis) / sumval\n",
      "/Users/fpil/anaconda3/lib/python3.7/site-packages/seaborn/axisgrid.py:1847: UserWarning: JointGrid annotation is deprecated and will be removed in a future release.\n",
      "  warnings.warn(UserWarning(msg))\n"
     ]
    },
    {
     "data": {
      "text/plain": [
       "<seaborn.axisgrid.JointGrid at 0x117200b70>"
      ]
     },
     "execution_count": 15,
     "metadata": {},
     "output_type": "execute_result"
    },
    {
     "data": {
      "image/png": "[encoded data removed]",
      "text/plain": [
       "<Figure size 432x432 with 3 Axes>"
      ]
     },
     "metadata": {
      "needs_background": "light"
     },
     "output_type": "display_data"
    }
   ],
   "source": [
    "import seaborn as sns\n",
    "from scipy import stats\n",
    "country = 'Italy'\n",
    "x = np.array(dCVsub_country[country]['day']).reshape(-1,1)\n",
    "y = np.array(dCVsub_country[country]['log_total_cases']).reshape(-1,1)\n",
    "def r2(x, y):\n",
    "    r = stats.pearsonr(x, y)[0] ** 2\n",
    "    p = stats.pearsonr(x, y)[1]\n",
    "    return (r,p) \n",
    "sns.jointplot(x, y, kind=\"reg\", stat_func=r2)"
   ]
  },
  {
   "cell_type": "code",
   "execution_count": 16,
   "metadata": {},
   "outputs": [
    {
     "name": "stdout",
     "output_type": "stream",
     "text": [
      "(14,) (14,)\n",
      "Prediction Interval: 20.309\n",
      "95% likelihood that the true value is between 149.987 and 190.606\n"
     ]
    },
    {
     "data": {
      "image/png": "[encoded data removed]",
      "text/plain": [
       "<Figure size 432x288 with 1 Axes>"
      ]
     },
     "metadata": {
      "needs_background": "light"
     },
     "output_type": "display_data"
    }
   ],
   "source": [
    "country = 'India'\n",
    "x = np.array(dCVsub_country[country]['day']).reshape(-1,1)[:,0]\n",
    "y = np.array(dCVsub_country[country]['log_total_cases']).reshape(-1,1)[:,0]\n",
    "\n",
    "from scipy.stats import linregress\n",
    "print(x.shape,y.shape)\n",
    "\n",
    "gradient, intercept, r_val, p_val,std_error = linregress(x,y)\n",
    "y_pred = intercept + gradient*x\n",
    "\n",
    "x_in = np.linspace(30,45,16)[-1]\n",
    "y_out = intercept + gradient*x_in\n",
    "\n",
    "yhat_out = y_out\n",
    "# estimate stdev of yhat\n",
    "sum_errs = np.sum((np.exp(y) - np.exp(y_pred))**2)\n",
    "stdev = np.sqrt(1/(len(y)-2) * sum_errs)\n",
    "\n",
    "# calculate prediction interval\n",
    "interval = 1.96 * stdev\n",
    "print('Prediction Interval: %.3f' % interval)\n",
    "lower, upper = np.exp(yhat_out) - interval, np.exp(yhat_out) + interval\n",
    "print('95%% likelihood that the true value is between %.3f and %.3f' % (lower, upper))\n",
    "#print('True value: %.3f' % np.exp(y_out))\n",
    "# plot dataset and prediction with interval\n",
    "plt.scatter(x, np.exp(y))\n",
    "plt.plot(x, np.exp(y_pred), color='red')\n",
    "plt.errorbar(x_in, np.exp(yhat_out), yerr=interval, color='black', fmt='o')\n",
    "plt.show()"
   ]
  },
  {
   "cell_type": "code",
   "execution_count": 89,
   "metadata": {},
   "outputs": [
    {
     "name": "stderr",
     "output_type": "stream",
     "text": [
      "/Users/fpil/anaconda3/lib/python3.7/site-packages/scipy/optimize/minpack.py:794: OptimizeWarning: Covariance of the parameters could not be estimated\n",
      "  category=OptimizeWarning)\n"
     ]
    },
    {
     "data": {
      "text/plain": [
       "(array([1.        , 1.        , 1.54635745, 1.15129255, 3.11128814,\n",
       "        1.        , 1.        , 4.02190119]),\n",
       " array([[inf, inf, inf, inf, inf, inf, inf, inf],\n",
       "        [inf, inf, inf, inf, inf, inf, inf, inf],\n",
       "        [inf, inf, inf, inf, inf, inf, inf, inf],\n",
       "        [inf, inf, inf, inf, inf, inf, inf, inf],\n",
       "        [inf, inf, inf, inf, inf, inf, inf, inf],\n",
       "        [inf, inf, inf, inf, inf, inf, inf, inf],\n",
       "        [inf, inf, inf, inf, inf, inf, inf, inf],\n",
       "        [inf, inf, inf, inf, inf, inf, inf, inf]]))"
      ]
     },
     "execution_count": 89,
     "metadata": {},
     "output_type": "execute_result"
    }
   ],
   "source": [
    "from scipy import optimize\n",
    "\n",
    "def piecewise_linear(x, x0, x1,x2, b1, b2, k0,k1, k2):\n",
    "    condlist = [x < x0, (x >= x0) & (x < x1), (x >= x1) & (x < x2), (x >= x2)]\n",
    "    funclist = [lambda x: b1, \n",
    "#                 lambda x: b1 + k0*(x-x0),\n",
    "                lambda x: b1+ k0*(x-x0)+ k1*(x-x1),\n",
    "#                 lambda x: b1 + b2 + k1*(x-x1),\n",
    "                lambda x: b2,\n",
    "#                 lambda x: b1 + b2 + k1*(x-x1) + k2*(x-x2)\n",
    "                lambda x: b2+k2*(x-x2)\n",
    "               ]\n",
    "    return np.piecewise(x, condlist, funclist)\n",
    "\n",
    "s = 'Iran'\n",
    "x  = np.array(dCV_country[s]['log_day'])\n",
    "y  = np.array(dCV_country[s]['log_total_cases'])\n",
    "p, e = optimize.curve_fit(piecewise_linear, x, y)\n",
    "p,e"
   ]
  },
  {
   "cell_type": "code",
   "execution_count": 90,
   "metadata": {},
   "outputs": [
    {
     "data": {
      "text/plain": [
       "[<matplotlib.lines.Line2D at 0x1a2d62d438>]"
      ]
     },
     "execution_count": 90,
     "metadata": {},
     "output_type": "execute_result"
    },
    {
     "data": {
      "image/png": "[encoded data removed]",
      "text/plain": [
       "<Figure size 432x288 with 1 Axes>"
      ]
     },
     "metadata": {
      "needs_background": "light"
     },
     "output_type": "display_data"
    }
   ],
   "source": [
    "xd = np.linspace(0, 4, 100)\n",
    "plt.plot(x, y, \"o\")\n",
    "plt.plot(xd, piecewise_linear(xd, *p))"
   ]
  },
  {
   "cell_type": "code",
   "execution_count": 19,
   "metadata": {},
   "outputs": [
    {
     "data": {
      "text/plain": [
       "[<matplotlib.lines.Line2D at 0x1a293752e8>,\n",
       " <matplotlib.lines.Line2D at 0x1a29375438>]"
      ]
     },
     "execution_count": 19,
     "metadata": {},
     "output_type": "execute_result"
    },
    {
     "data": {
      "image/png": "[encoded data removed]",
      "text/plain": [
       "<Figure size 432x288 with 1 Axes>"
      ]
     },
     "metadata": {
      "needs_background": "light"
     },
     "output_type": "display_data"
    }
   ],
   "source": [
    "from scipy import interpolate\n",
    "tck = interpolate.splrep(x, y, s=0)\n",
    "ynew = interpolate.splev(x, tck, der=0)\n",
    "\n",
    "plt.plot(x, y, 'x', x, ynew, 'b')"
   ]
  },
  {
   "cell_type": "code",
   "execution_count": 20,
   "metadata": {},
   "outputs": [
    {
     "data": {
      "text/plain": [
       "(array([0.        , 0.        , 0.        , 0.        , 1.09861229,\n",
       "        1.38629436, 1.60943791, 1.79175947, 1.94591015, 2.07944154,\n",
       "        2.19722458, 2.30258509, 2.39789527, 2.48490665, 2.56494936,\n",
       "        2.63905733, 2.7080502 , 2.77258872, 2.83321334, 2.89037176,\n",
       "        2.94443898, 2.99573227, 3.04452244, 3.09104245, 3.13549422,\n",
       "        3.17805383, 3.21887582, 3.25809654, 3.29583687, 3.33220451,\n",
       "        3.36729583, 3.40119738, 3.4339872 , 3.4657359 , 3.49650756,\n",
       "        3.52636052, 3.55534806, 3.58351894, 3.61091791, 3.63758616,\n",
       "        3.66356165, 3.68887945, 3.71357207, 3.76120012, 3.76120012,\n",
       "        3.76120012, 3.76120012]),\n",
       " array([[ 3.51439570e+00,  3.51439570e+00,  3.51439570e+00,\n",
       "          3.51439570e+00, -8.17690173e+00, -7.31740211e+00,\n",
       "          1.57299203e+01, -5.38198756e+00,  1.77902394e+00,\n",
       "         -5.73015240e-01,  1.80875147e-01, -5.61772549e-02,\n",
       "          1.72178511e-02, -5.21898771e-03,  1.56714363e-03,\n",
       "         -4.66676910e-04,  1.37486961e-04, -3.81400474e-05,\n",
       "          1.84741894e-06,  3.72440383e-05, -1.63511013e-04,\n",
       "          6.62024218e-04, -2.65662950e-03,  1.06214982e-02,\n",
       "         -4.23366303e-02,  1.68284403e-01, -6.67215890e-01,\n",
       "          2.63918399e+00, -1.04166936e+01,  4.10312713e+01,\n",
       "         -1.61319087e+02,  6.33135903e+02, -2.48083513e+03,\n",
       "          9.70584489e+03, -1.87174629e+04,  3.50058764e+04,\n",
       "         -4.99732523e+04,  3.32096915e+04, -9.29678150e+03,\n",
       "          6.17445638e+03, -1.02340174e+04,  1.30137465e+04,\n",
       "         -8.40122007e+03, -8.40122007e+03, -8.40122007e+03,\n",
       "         -8.40122007e+03],\n",
       "        [-6.29695177e+00, -6.29695177e+00, -6.29695177e+00,\n",
       "         -6.29695177e+00,  5.28592314e+00, -1.77112097e+00,\n",
       "         -6.66961425e+00,  1.93409645e+00, -5.54814678e-01,\n",
       "          1.57851953e-01, -4.46224703e-02,  1.25488260e-02,\n",
       "         -3.51396676e-03,  9.80480037e-04, -2.72745686e-04,\n",
       "          7.56678227e-05, -2.09243176e-05,  5.69529782e-06,\n",
       "         -1.24138003e-06, -9.24593424e-07,  5.11645155e-06,\n",
       "         -2.00446040e-05,  7.68562068e-05, -2.93903131e-04,\n",
       "          1.12252982e-03, -4.28296217e-03,  1.63261527e-02,\n",
       "         -6.21798964e-02,  2.36631112e-01, -8.99860708e-01,\n",
       "          3.41966368e+00, -1.29872384e+01,  4.92940039e+01,\n",
       "         -1.86995855e+02,  7.08998984e+02, -9.67316207e+02,\n",
       "          2.07688619e+03, -2.14648483e+03,  5.83249609e+02,\n",
       "         -1.60536989e+02,  3.20616534e+02, -4.56692129e+02,\n",
       "          5.07338072e+02, -6.93063091e+02, -6.93063091e+02,\n",
       "         -6.93063091e+02],\n",
       "        [ 2.67621236e+00,  2.67621236e+00,  2.67621236e+00,\n",
       "          2.67621236e+00,  1.56548388e+00,  2.57662945e+00,\n",
       "          6.93133811e-01, -1.70253168e-01,  4.23640541e-02,\n",
       "         -1.06429315e-02,  2.69358073e-03, -6.85714975e-04,\n",
       "          1.75399085e-04, -4.50430836e-05,  1.16058902e-05,\n",
       "         -2.99915065e-06,  7.77760967e-07, -2.05097447e-07,\n",
       "          6.49196348e-08, -5.88839724e-08,  1.67758148e-07,\n",
       "         -5.97955969e-07,  2.17389146e-06, -7.92313486e-06,\n",
       "          2.89107819e-05, -1.05596000e-04,  3.86031058e-04,\n",
       "         -1.41238547e-03,  5.17146062e-03, -1.89486373e-02,\n",
       "          6.94745745e-02, -2.54881054e-01,  9.35611354e-01,\n",
       "         -3.43624317e+00,  1.26266589e+01,  4.91512441e+00,\n",
       "          3.70788253e+01,  3.51181706e+01, -7.71287094e+00,\n",
       "          3.56013365e+00,  7.71827770e+00,  4.27314191e+00,\n",
       "          5.52372256e+00, -3.32199775e+00, -3.32199775e+00,\n",
       "         -3.32199775e+00],\n",
       "        [-1.73253555e-18, -1.73253555e-18, -1.73253555e-18,\n",
       "         -1.73253555e-18,  1.11022302e-16,  6.93147181e-01,\n",
       "          1.09861229e+00,  1.09861229e+00,  1.09861229e+00,\n",
       "          1.09861229e+00,  1.09861229e+00,  1.09861229e+00,\n",
       "          1.09861229e+00,  1.09861229e+00,  1.09861229e+00,\n",
       "          1.09861229e+00,  1.09861229e+00,  1.09861229e+00,\n",
       "          1.09861229e+00,  1.09861229e+00,  1.09861229e+00,\n",
       "          1.09861229e+00,  1.09861229e+00,  1.09861229e+00,\n",
       "          1.09861229e+00,  1.09861229e+00,  1.09861229e+00,\n",
       "          1.09861229e+00,  1.09861229e+00,  1.09861229e+00,\n",
       "          1.09861229e+00,  1.09861229e+00,  1.09861229e+00,\n",
       "          1.09861229e+00,  1.09861229e+00,  1.60943791e+00,\n",
       "          1.79175947e+00,  3.36729583e+00,  3.40119738e+00,\n",
       "          3.43398720e+00,  3.52636052e+00,  3.76120012e+00,\n",
       "          3.78418963e+00,  4.29045944e+00,  4.29045944e+00,\n",
       "          4.29045944e+00]]))"
      ]
     },
     "execution_count": 20,
     "metadata": {},
     "output_type": "execute_result"
    }
   ],
   "source": [
    "F = interpolate.PPoly.from_spline(tck)\n",
    "F.x, F.c"
   ]
  },
  {
   "cell_type": "code",
   "execution_count": null,
   "metadata": {},
   "outputs": [],
   "source": []
  },
  {
   "cell_type": "markdown",
   "metadata": {},
   "source": [
    "### "
   ]
  },
  {
   "cell_type": "code",
   "execution_count": 83,
   "metadata": {},
   "outputs": [
    {
     "data": {
      "text/html": [
       "<div>\n",
       "<style scoped>\n",
       "    .dataframe tbody tr th:only-of-type {\n",
       "        vertical-align: middle;\n",
       "    }\n",
       "\n",
       "    .dataframe tbody tr th {\n",
       "        vertical-align: top;\n",
       "    }\n",
       "\n",
       "    .dataframe thead th {\n",
       "        text-align: right;\n",
       "    }\n",
       "</style>\n",
       "<table border=\"1\" class=\"dataframe\">\n",
       "  <thead>\n",
       "    <tr style=\"text-align: right;\">\n",
       "      <th></th>\n",
       "      <th>date</th>\n",
       "      <th>location</th>\n",
       "      <th>new_cases</th>\n",
       "      <th>new_deaths</th>\n",
       "      <th>total_cases</th>\n",
       "      <th>total_deaths</th>\n",
       "      <th>day</th>\n",
       "      <th>reverse_day</th>\n",
       "      <th>log_total_cases</th>\n",
       "      <th>log_day</th>\n",
       "    </tr>\n",
       "  </thead>\n",
       "  <tbody>\n",
       "    <tr>\n",
       "      <th>853</th>\n",
       "      <td>2020-02-29</td>\n",
       "      <td>Iran</td>\n",
       "      <td>143.0</td>\n",
       "      <td>8.0</td>\n",
       "      <td>388</td>\n",
       "      <td>34.0</td>\n",
       "      <td>10</td>\n",
       "      <td>-13</td>\n",
       "      <td>5.961005</td>\n",
       "      <td>2.302585</td>\n",
       "    </tr>\n",
       "    <tr>\n",
       "      <th>854</th>\n",
       "      <td>2020-03-01</td>\n",
       "      <td>Iran</td>\n",
       "      <td>205.0</td>\n",
       "      <td>9.0</td>\n",
       "      <td>593</td>\n",
       "      <td>43.0</td>\n",
       "      <td>11</td>\n",
       "      <td>-12</td>\n",
       "      <td>6.385194</td>\n",
       "      <td>2.397895</td>\n",
       "    </tr>\n",
       "    <tr>\n",
       "      <th>855</th>\n",
       "      <td>2020-03-02</td>\n",
       "      <td>Iran</td>\n",
       "      <td>385.0</td>\n",
       "      <td>11.0</td>\n",
       "      <td>978</td>\n",
       "      <td>54.0</td>\n",
       "      <td>12</td>\n",
       "      <td>-11</td>\n",
       "      <td>6.885510</td>\n",
       "      <td>2.484907</td>\n",
       "    </tr>\n",
       "    <tr>\n",
       "      <th>856</th>\n",
       "      <td>2020-03-03</td>\n",
       "      <td>Iran</td>\n",
       "      <td>523.0</td>\n",
       "      <td>12.0</td>\n",
       "      <td>1501</td>\n",
       "      <td>66.0</td>\n",
       "      <td>13</td>\n",
       "      <td>-10</td>\n",
       "      <td>7.313887</td>\n",
       "      <td>2.564949</td>\n",
       "    </tr>\n",
       "    <tr>\n",
       "      <th>857</th>\n",
       "      <td>2020-03-04</td>\n",
       "      <td>Iran</td>\n",
       "      <td>835.0</td>\n",
       "      <td>11.0</td>\n",
       "      <td>2336</td>\n",
       "      <td>77.0</td>\n",
       "      <td>14</td>\n",
       "      <td>-9</td>\n",
       "      <td>7.756195</td>\n",
       "      <td>2.639057</td>\n",
       "    </tr>\n",
       "    <tr>\n",
       "      <th>858</th>\n",
       "      <td>2020-03-05</td>\n",
       "      <td>Iran</td>\n",
       "      <td>586.0</td>\n",
       "      <td>15.0</td>\n",
       "      <td>2922</td>\n",
       "      <td>92.0</td>\n",
       "      <td>15</td>\n",
       "      <td>-8</td>\n",
       "      <td>7.980024</td>\n",
       "      <td>2.708050</td>\n",
       "    </tr>\n",
       "    <tr>\n",
       "      <th>859</th>\n",
       "      <td>2020-03-06</td>\n",
       "      <td>Iran</td>\n",
       "      <td>591.0</td>\n",
       "      <td>15.0</td>\n",
       "      <td>3513</td>\n",
       "      <td>107.0</td>\n",
       "      <td>16</td>\n",
       "      <td>-7</td>\n",
       "      <td>8.164226</td>\n",
       "      <td>2.772589</td>\n",
       "    </tr>\n",
       "    <tr>\n",
       "      <th>860</th>\n",
       "      <td>2020-03-07</td>\n",
       "      <td>Iran</td>\n",
       "      <td>1234.0</td>\n",
       "      <td>17.0</td>\n",
       "      <td>4747</td>\n",
       "      <td>124.0</td>\n",
       "      <td>17</td>\n",
       "      <td>-6</td>\n",
       "      <td>8.465268</td>\n",
       "      <td>2.833213</td>\n",
       "    </tr>\n",
       "    <tr>\n",
       "      <th>861</th>\n",
       "      <td>2020-03-08</td>\n",
       "      <td>Iran</td>\n",
       "      <td>1076.0</td>\n",
       "      <td>21.0</td>\n",
       "      <td>5823</td>\n",
       "      <td>145.0</td>\n",
       "      <td>18</td>\n",
       "      <td>-5</td>\n",
       "      <td>8.669571</td>\n",
       "      <td>2.890372</td>\n",
       "    </tr>\n",
       "    <tr>\n",
       "      <th>862</th>\n",
       "      <td>2020-03-09</td>\n",
       "      <td>Iran</td>\n",
       "      <td>743.0</td>\n",
       "      <td>49.0</td>\n",
       "      <td>6566</td>\n",
       "      <td>194.0</td>\n",
       "      <td>19</td>\n",
       "      <td>-4</td>\n",
       "      <td>8.789660</td>\n",
       "      <td>2.944439</td>\n",
       "    </tr>\n",
       "    <tr>\n",
       "      <th>863</th>\n",
       "      <td>2020-03-10</td>\n",
       "      <td>Iran</td>\n",
       "      <td>595.0</td>\n",
       "      <td>43.0</td>\n",
       "      <td>7161</td>\n",
       "      <td>237.0</td>\n",
       "      <td>20</td>\n",
       "      <td>-3</td>\n",
       "      <td>8.876405</td>\n",
       "      <td>2.995732</td>\n",
       "    </tr>\n",
       "    <tr>\n",
       "      <th>864</th>\n",
       "      <td>2020-03-11</td>\n",
       "      <td>Iran</td>\n",
       "      <td>881.0</td>\n",
       "      <td>54.0</td>\n",
       "      <td>8042</td>\n",
       "      <td>291.0</td>\n",
       "      <td>21</td>\n",
       "      <td>-2</td>\n",
       "      <td>8.992433</td>\n",
       "      <td>3.044522</td>\n",
       "    </tr>\n",
       "    <tr>\n",
       "      <th>865</th>\n",
       "      <td>2020-03-12</td>\n",
       "      <td>Iran</td>\n",
       "      <td>958.0</td>\n",
       "      <td>63.0</td>\n",
       "      <td>9000</td>\n",
       "      <td>354.0</td>\n",
       "      <td>22</td>\n",
       "      <td>-1</td>\n",
       "      <td>9.104980</td>\n",
       "      <td>3.091042</td>\n",
       "    </tr>\n",
       "  </tbody>\n",
       "</table>\n",
       "</div>"
      ],
      "text/plain": [
       "           date location  new_cases  new_deaths  total_cases  total_deaths  \\\n",
       "853  2020-02-29     Iran      143.0         8.0          388          34.0   \n",
       "854  2020-03-01     Iran      205.0         9.0          593          43.0   \n",
       "855  2020-03-02     Iran      385.0        11.0          978          54.0   \n",
       "856  2020-03-03     Iran      523.0        12.0         1501          66.0   \n",
       "857  2020-03-04     Iran      835.0        11.0         2336          77.0   \n",
       "858  2020-03-05     Iran      586.0        15.0         2922          92.0   \n",
       "859  2020-03-06     Iran      591.0        15.0         3513         107.0   \n",
       "860  2020-03-07     Iran     1234.0        17.0         4747         124.0   \n",
       "861  2020-03-08     Iran     1076.0        21.0         5823         145.0   \n",
       "862  2020-03-09     Iran      743.0        49.0         6566         194.0   \n",
       "863  2020-03-10     Iran      595.0        43.0         7161         237.0   \n",
       "864  2020-03-11     Iran      881.0        54.0         8042         291.0   \n",
       "865  2020-03-12     Iran      958.0        63.0         9000         354.0   \n",
       "\n",
       "     day  reverse_day  log_total_cases   log_day  \n",
       "853   10          -13         5.961005  2.302585  \n",
       "854   11          -12         6.385194  2.397895  \n",
       "855   12          -11         6.885510  2.484907  \n",
       "856   13          -10         7.313887  2.564949  \n",
       "857   14           -9         7.756195  2.639057  \n",
       "858   15           -8         7.980024  2.708050  \n",
       "859   16           -7         8.164226  2.772589  \n",
       "860   17           -6         8.465268  2.833213  \n",
       "861   18           -5         8.669571  2.890372  \n",
       "862   19           -4         8.789660  2.944439  \n",
       "863   20           -3         8.876405  2.995732  \n",
       "864   21           -2         8.992433  3.044522  \n",
       "865   22           -1         9.104980  3.091042  "
      ]
     },
     "execution_count": 83,
     "metadata": {},
     "output_type": "execute_result"
    }
   ],
   "source": [
    "def get_data_from_ndays(df_dict, ndays = 10):\n",
    "    df_subdict = {}\n",
    "    for key in df_dict.keys():\n",
    "        df_subdict[key] = df_dict[key].loc[df_dict[key]['day']>=ndays]\n",
    "    return df_subdict\n",
    "dCVsub_country = get_data_from_ndays(dCV_country)\n",
    "dCVsub_country['Iran']"
   ]
  },
  {
   "cell_type": "code",
   "execution_count": 156,
   "metadata": {},
   "outputs": [
    {
     "name": "stdout",
     "output_type": "stream",
     "text": [
      "Australia\n",
      "(39,) (39,)\n",
      "Prediction Interval: 29.879\n",
      "95% likelihood that the true value is between 742.171 and 801.930\n"
     ]
    },
    {
     "data": {
      "image/png": "[encoded data removed]",
      "text/plain": [
       "<Figure size 432x288 with 1 Axes>"
      ]
     },
     "metadata": {
      "needs_background": "light"
     },
     "output_type": "display_data"
    },
    {
     "name": "stdout",
     "output_type": "stream",
     "text": [
      "Belgium\n",
      "(28,) (28,)\n",
      "Prediction Interval: 148.135\n",
      "95% likelihood that the true value is between 4818594.671 and 4818890.941\n"
     ]
    },
    {
     "data": {
      "image/png": "[encoded data removed]",
      "text/plain": [
       "<Figure size 432x288 with 1 Axes>"
      ]
     },
     "metadata": {
      "needs_background": "light"
     },
     "output_type": "display_data"
    },
    {
     "name": "stdout",
     "output_type": "stream",
     "text": [
      "Cambodia\n",
      "(36,) (36,)\n",
      "Prediction Interval: 0.856\n",
      "95% likelihood that the true value is between 2.539 and 4.250\n"
     ]
    },
    {
     "data": {
      "image/png": "[encoded data removed]",
      "text/plain": [
       "<Figure size 432x288 with 1 Axes>"
      ]
     },
     "metadata": {
      "needs_background": "light"
     },
     "output_type": "display_data"
    },
    {
     "name": "stdout",
     "output_type": "stream",
     "text": [
      "Canada\n",
      "(37,) (37,)\n",
      "Prediction Interval: 25.811\n",
      "95% likelihood that the true value is between 1647.737 and 1699.358\n"
     ]
    },
    {
     "data": {
      "image/png": "[encoded data removed]",
      "text/plain": [
       "<Figure size 432x288 with 1 Axes>"
      ]
     },
     "metadata": {
      "needs_background": "light"
     },
     "output_type": "display_data"
    },
    {
     "name": "stdout",
     "output_type": "stream",
     "text": [
      "China\n",
      "(43,) (43,)\n",
      "Prediction Interval: 36955.729\n",
      "95% likelihood that the true value is between 993566.009 and 1067477.467\n"
     ]
    },
    {
     "data": {
      "image/png": "[encoded data removed]",
      "text/plain": [
       "<Figure size 432x288 with 1 Axes>"
      ]
     },
     "metadata": {
      "needs_background": "light"
     },
     "output_type": "display_data"
    },
    {
     "name": "stdout",
     "output_type": "stream",
     "text": [
      "Egypt\n",
      "(18,) (18,)\n",
      "Prediction Interval: 33.124\n",
      "95% likelihood that the true value is between 24702450.061 and 24702516.309\n"
     ]
    },
    {
     "data": {
      "image/png": "[encoded data removed]",
      "text/plain": [
       "<Figure size 432x288 with 1 Axes>"
      ]
     },
     "metadata": {
      "needs_background": "light"
     },
     "output_type": "display_data"
    },
    {
     "name": "stdout",
     "output_type": "stream",
     "text": [
      "Finland\n",
      "(34,) (34,)\n",
      "Prediction Interval: 15.892\n",
      "95% likelihood that the true value is between 4259.277 and 4291.060\n"
     ]
    },
    {
     "data": {
      "image/png": "[encoded data removed]",
      "text/plain": [
       "<Figure size 432x288 with 1 Axes>"
      ]
     },
     "metadata": {
      "needs_background": "light"
     },
     "output_type": "display_data"
    },
    {
     "name": "stdout",
     "output_type": "stream",
     "text": [
      "France\n",
      "(39,) (39,)\n",
      "Prediction Interval: 797.915\n",
      "95% likelihood that the true value is between 550932.442 and 552528.272\n"
     ]
    },
    {
     "data": {
      "image/png": "[encoded data removed]",
      "text/plain": [
       "<Figure size 432x288 with 1 Axes>"
      ]
     },
     "metadata": {
      "needs_background": "light"
     },
     "output_type": "display_data"
    },
    {
     "name": "stdout",
     "output_type": "stream",
     "text": [
      "Germany\n",
      "(36,) (36,)\n",
      "Prediction Interval: 595.384\n",
      "95% likelihood that the true value is between 349572.380 and 350763.147\n"
     ]
    },
    {
     "data": {
      "image/png": "[encoded data removed]",
      "text/plain": [
       "<Figure size 432x288 with 1 Axes>"
      ]
     },
     "metadata": {
      "needs_background": "light"
     },
     "output_type": "display_data"
    },
    {
     "name": "stdout",
     "output_type": "stream",
     "text": [
      "India\n",
      "(34,) (34,)\n",
      "Prediction Interval: 27.331\n",
      "95% likelihood that the true value is between 1342.284 and 1396.947\n"
     ]
    },
    {
     "data": {
      "image/png": "[encoded data removed]",
      "text/plain": [
       "<Figure size 432x288 with 1 Axes>"
      ]
     },
     "metadata": {
      "needs_background": "light"
     },
     "output_type": "display_data"
    },
    {
     "name": "stdout",
     "output_type": "stream",
     "text": [
      "International\n",
      "(27,) (27,)\n",
      "Prediction Interval: 191.274\n",
      "95% likelihood that the true value is between 2175.291 and 2557.839\n"
     ]
    },
    {
     "data": {
      "image/png": "[encoded data removed]",
      "text/plain": [
       "<Figure size 432x288 with 1 Axes>"
      ]
     },
     "metadata": {
      "needs_background": "light"
     },
     "output_type": "display_data"
    },
    {
     "name": "stdout",
     "output_type": "stream",
     "text": [
      "Iran\n",
      "(13,) (13,)\n",
      "Prediction Interval: 3053.427\n",
      "95% likelihood that the true value is between 1718450819.448 and 1718456926.302\n"
     ]
    },
    {
     "data": {
      "image/png": "[encoded data removed]",
      "text/plain": [
       "<Figure size 432x288 with 1 Axes>"
      ]
     },
     "metadata": {
      "needs_background": "light"
     },
     "output_type": "display_data"
    },
    {
     "name": "stdout",
     "output_type": "stream",
     "text": [
      "Israel\n",
      "(11,) (11,)\n",
      "Prediction Interval: 12.883\n",
      "95% likelihood that the true value is between 3658761.035 and 3658786.801\n"
     ]
    },
    {
     "data": {
      "image/png": "[encoded data removed]",
      "text/plain": [
       "<Figure size 432x288 with 1 Axes>"
      ]
     },
     "metadata": {
      "needs_background": "light"
     },
     "output_type": "display_data"
    },
    {
     "name": "stdout",
     "output_type": "stream",
     "text": [
      "Italy\n",
      "(33,) (33,)\n",
      "Prediction Interval: 3894.630\n",
      "95% likelihood that the true value is between 77624918817.124 and 77624926606.384\n"
     ]
    },
    {
     "data": {
      "image/png": "[encoded data removed]",
      "text/plain": [
       "<Figure size 432x288 with 1 Axes>"
      ]
     },
     "metadata": {
      "needs_background": "light"
     },
     "output_type": "display_data"
    },
    {
     "name": "stdout",
     "output_type": "stream",
     "text": [
      "Japan\n",
      "(43,) (43,)\n",
      "Prediction Interval: 24.528\n",
      "95% likelihood that the true value is between 54011.659 and 54060.715\n"
     ]
    },
    {
     "data": {
      "image/png": "[encoded data removed]",
      "text/plain": [
       "<Figure size 432x288 with 1 Axes>"
      ]
     },
     "metadata": {
      "needs_background": "light"
     },
     "output_type": "display_data"
    },
    {
     "name": "stdout",
     "output_type": "stream",
     "text": [
      "Lebanon\n",
      "(11,) (11,)\n",
      "Prediction Interval: 8.386\n",
      "95% likelihood that the true value is between 222581.997 and 222598.770\n"
     ]
    },
    {
     "data": {
      "image/png": "[encoded data removed]",
      "text/plain": [
       "<Figure size 432x288 with 1 Axes>"
      ]
     },
     "metadata": {
      "needs_background": "light"
     },
     "output_type": "display_data"
    },
    {
     "name": "stdout",
     "output_type": "stream",
     "text": [
      "Malaysia\n",
      "(38,) (38,)\n",
      "Prediction Interval: 37.223\n",
      "95% likelihood that the true value is between 921.090 and 995.536\n"
     ]
    },
    {
     "data": {
      "image/png": "[encoded data removed]",
      "text/plain": [
       "<Figure size 432x288 with 1 Axes>"
      ]
     },
     "metadata": {
      "needs_background": "light"
     },
     "output_type": "display_data"
    },
    {
     "name": "stdout",
     "output_type": "stream",
     "text": [
      "Nepal\n",
      "(39,) (39,)\n",
      "Prediction Interval: 0.000\n",
      "95% likelihood that the true value is between 1.000 and 1.000\n"
     ]
    },
    {
     "data": {
      "image/png": "[encoded data removed]",
      "text/plain": [
       "<Figure size 432x288 with 1 Axes>"
      ]
     },
     "metadata": {
      "needs_background": "light"
     },
     "output_type": "display_data"
    },
    {
     "name": "stdout",
     "output_type": "stream",
     "text": [
      "Philippines\n",
      "(34,) (34,)\n",
      "Prediction Interval: 22.228\n",
      "95% likelihood that the true value is between 67.917 and 112.373\n"
     ]
    },
    {
     "data": {
      "image/png": "[encoded data removed]",
      "text/plain": [
       "<Figure size 432x288 with 1 Axes>"
      ]
     },
     "metadata": {
      "needs_background": "light"
     },
     "output_type": "display_data"
    },
    {
     "name": "stdout",
     "output_type": "stream",
     "text": [
      "Russia\n",
      "(32,) (32,)\n",
      "Prediction Interval: 5.505\n",
      "95% likelihood that the true value is between 46.139 and 57.149\n"
     ]
    },
    {
     "data": {
      "image/png": "[encoded data removed]",
      "text/plain": [
       "<Figure size 432x288 with 1 Axes>"
      ]
     },
     "metadata": {
      "needs_background": "light"
     },
     "output_type": "display_data"
    },
    {
     "name": "stdout",
     "output_type": "stream",
     "text": [
      "Singapore\n",
      "(40,) (40,)\n",
      "Prediction Interval: 25.226\n",
      "95% likelihood that the true value is between 1987.121 and 2037.573\n"
     ]
    },
    {
     "data": {
      "image/png": "[encoded data removed]",
      "text/plain": [
       "<Figure size 432x288 with 1 Axes>"
      ]
     },
     "metadata": {
      "needs_background": "light"
     },
     "output_type": "display_data"
    },
    {
     "name": "stdout",
     "output_type": "stream",
     "text": [
      "South Korea\n",
      "(43,) (43,)\n",
      "Prediction Interval: 3182.563\n",
      "95% likelihood that the true value is between 128542791.200 and 128549156.326\n"
     ]
    },
    {
     "data": {
      "image/png": "[encoded data removed]",
      "text/plain": [
       "<Figure size 432x288 with 1 Axes>"
      ]
     },
     "metadata": {
      "needs_background": "light"
     },
     "output_type": "display_data"
    },
    {
     "name": "stdout",
     "output_type": "stream",
     "text": [
      "Spain\n",
      "(32,) (32,)\n",
      "Prediction Interval: 670.809\n",
      "95% likelihood that the true value is between 61046021.999 and 61047363.617\n"
     ]
    },
    {
     "data": {
      "image/png": "[encoded data removed]",
      "text/plain": [
       "<Figure size 432x288 with 1 Axes>"
      ]
     },
     "metadata": {
      "needs_background": "light"
     },
     "output_type": "display_data"
    },
    {
     "name": "stdout",
     "output_type": "stream",
     "text": [
      "Sri Lanka\n",
      "(36,) (36,)\n",
      "Prediction Interval: 0.319\n",
      "95% likelihood that the true value is between 0.924 and 1.562\n"
     ]
    },
    {
     "data": {
      "image/png": "[encoded data removed]",
      "text/plain": [
       "<Figure size 432x288 with 1 Axes>"
      ]
     },
     "metadata": {
      "needs_background": "light"
     },
     "output_type": "display_data"
    },
    {
     "name": "stdout",
     "output_type": "stream",
     "text": [
      "Sweden\n",
      "(32,) (32,)\n",
      "Prediction Interval: 151.982\n",
      "95% likelihood that the true value is between 2882567.046 and 2882871.009\n"
     ]
    },
    {
     "data": {
      "image/png": "[encoded data removed]",
      "text/plain": [
       "<Figure size 432x288 with 1 Axes>"
      ]
     },
     "metadata": {
      "needs_background": "light"
     },
     "output_type": "display_data"
    },
    {
     "name": "stdout",
     "output_type": "stream",
     "text": [
      "Thailand\n",
      "(43,) (43,)\n",
      "Prediction Interval: 7.788\n",
      "95% likelihood that the true value is between 186.480 and 202.056\n"
     ]
    },
    {
     "data": {
      "image/png": "[encoded data removed]",
      "text/plain": [
       "<Figure size 432x288 with 1 Axes>"
      ]
     },
     "metadata": {
      "needs_background": "light"
     },
     "output_type": "display_data"
    },
    {
     "name": "stdout",
     "output_type": "stream",
     "text": [
      "United Arab Emirates\n",
      "(35,) (35,)\n",
      "Prediction Interval: 15.556\n",
      "95% likelihood that the true value is between 1177.057 and 1208.169\n"
     ]
    },
    {
     "data": {
      "image/png": "[encoded data removed]",
      "text/plain": [
       "<Figure size 432x288 with 1 Axes>"
      ]
     },
     "metadata": {
      "needs_background": "light"
     },
     "output_type": "display_data"
    },
    {
     "name": "stdout",
     "output_type": "stream",
     "text": [
      "United Kingdom\n",
      "(32,) (32,)\n",
      "Prediction Interval: 145.491\n",
      "95% likelihood that the true value is between 109078.851 and 109369.833\n"
     ]
    },
    {
     "data": {
      "image/png": "[encoded data removed]",
      "text/plain": [
       "<Figure size 432x288 with 1 Axes>"
      ]
     },
     "metadata": {
      "needs_background": "light"
     },
     "output_type": "display_data"
    },
    {
     "name": "stdout",
     "output_type": "stream",
     "text": [
      "United States\n",
      "(41,) (41,)\n",
      "Prediction Interval: 279.903\n",
      "95% likelihood that the true value is between 27556.390 and 28116.196\n"
     ]
    },
    {
     "data": {
      "image/png": "[encoded data removed]",
      "text/plain": [
       "<Figure size 432x288 with 1 Axes>"
      ]
     },
     "metadata": {
      "needs_background": "light"
     },
     "output_type": "display_data"
    },
    {
     "name": "stdout",
     "output_type": "stream",
     "text": [
      "Vietnam\n",
      "(40,) (40,)\n",
      "Prediction Interval: 8.183\n",
      "95% likelihood that the true value is between 64.478 and 80.843\n"
     ]
    },
    {
     "data": {
      "image/png": "[encoded data removed]",
      "text/plain": [
       "<Figure size 432x288 with 1 Axes>"
      ]
     },
     "metadata": {
      "needs_background": "light"
     },
     "output_type": "display_data"
    },
    {
     "name": "stdout",
     "output_type": "stream",
     "text": [
      "Worldwide\n",
      "(43,) (43,)\n",
      "Prediction Interval: 32700.202\n",
      "95% likelihood that the true value is between 1766593.901 and 1831994.306\n"
     ]
    },
    {
     "data": {
      "image/png": "[encoded data removed]",
      "text/plain": [
       "<Figure size 432x288 with 1 Axes>"
      ]
     },
     "metadata": {
      "needs_background": "light"
     },
     "output_type": "display_data"
    }
   ],
   "source": [
    "country = 'India'\n",
    "\n",
    "def get_intercept_grad(country):\n",
    "\n",
    "    x = np.array(dCVsub_country[country]['reverse_day']).reshape(-1,1)[:,0]\n",
    "    y = np.array(dCVsub_country[country]['log_total_cases']).reshape(-1,1)[:,0]\n",
    "\n",
    "    from scipy.stats import linregress\n",
    "    print(x.shape,y.shape)\n",
    "\n",
    "    gradient, intercept, r_val, p_val,std_error = linregress(x,y)\n",
    "    y_pred = intercept + gradient*x\n",
    "\n",
    "    x_in = np.linspace(30,45,16)[-1]\n",
    "    #x_in = np.linspace(30,45,16)[-1]\n",
    "    y_out = intercept + gradient*x_in\n",
    "\n",
    "    yhat_out = y_out\n",
    "    # estimate stdev of yhat\n",
    "    sum_errs = np.sum((np.exp(y) - np.exp(y_pred))**2)\n",
    "    stdev = np.sqrt(1/(len(y)-2) * sum_errs)\n",
    "    \n",
    "    # calculate prediction interval\n",
    "    interval = 1.96 * stdev\n",
    "    print('Prediction Interval: %.3f' % interval)\n",
    "    lower, upper = np.exp(yhat_out) - interval, np.exp(yhat_out) + interval\n",
    "    print('95%% likelihood that the true value is between %.3f and %.3f' % (lower, upper))\n",
    "    #print('True value: %.3f' % np.exp(y_out))\n",
    "    # plot dataset and prediction with interval\n",
    "    plt.scatter(x, np.exp(y))\n",
    "    plt.plot(x, np.exp(y_pred), color='red')\n",
    "    #plt.errorbar(x_in, np.exp(yhat_out), yerr=interval, color='black', fmt='o')\n",
    "    plt.show()\n",
    "    \n",
    "    return intercept, gradient\n",
    "\n",
    "\n",
    "\n",
    "reg_df = pd.DataFrame(columns=['intercept', 'grad', 'maxCases'])\n",
    "\n",
    "for country, data in dCVsub_country.items():\n",
    "    #print(country, len(data))\n",
    "    if len(data)>10:\n",
    "        print(country)\n",
    "        intercept, gradient = get_intercept_grad(country)\n",
    "        reg_df.loc[country] = [intercept, gradient,max(data['total_cases'])]\n",
    "\n",
    "\n",
    "\n",
    "\n",
    "\n",
    "\n"
   ]
  },
  {
   "cell_type": "code",
   "execution_count": 157,
   "metadata": {},
   "outputs": [
    {
     "data": {
      "image/png": "[encoded data removed]",
      "text/plain": [
       "<Figure size 1440x720 with 1 Axes>"
      ]
     },
     "metadata": {
      "needs_background": "light"
     },
     "output_type": "display_data"
    }
   ],
   "source": [
    "import seaborn as sns\n",
    "\n",
    "plt.figure(figsize=[20,10])\n",
    "\n",
    "p1 = sns.scatterplot(data=reg_df,x= 'intercept', y= 'grad')\n",
    "\n",
    "\n",
    "for i in range(0,reg_df.shape[0]):\n",
    "    p1.text(reg_df.intercept[i]+0.2, reg_df.grad[i], reg_df.index[i], horizontalalignment='left', size='medium', color='black', weight='semibold')\n",
    "    p1.text(reg_df.intercept[i], reg_df.grad[i]+0.005, reg_df.maxCases[i], horizontalalignment='left', size='medium', color='red', weight='semibold')\n",
    "        \n",
    "        \n",
    "        \n",
    "        \n",
    "        \n",
    "        \n",
    "        "
   ]
  },
  {
   "cell_type": "code",
   "execution_count": 141,
   "metadata": {},
   "outputs": [
    {
     "name": "stdout",
     "output_type": "stream",
     "text": [
      "Australia\n"
     ]
    },
    {
     "name": "stderr",
     "output_type": "stream",
     "text": [
      "/Users/fpil/anaconda3/lib/python3.7/site-packages/scipy/optimize/minpack.py:794: OptimizeWarning: Covariance of the parameters could not be estimated\n",
      "  category=OptimizeWarning)\n"
     ]
    },
    {
     "data": {
      "image/png": "[encoded data removed]",
      "text/plain": [
       "<Figure size 432x288 with 1 Axes>"
      ]
     },
     "metadata": {
      "needs_background": "light"
     },
     "output_type": "display_data"
    },
    {
     "name": "stdout",
     "output_type": "stream",
     "text": [
      "Belgium\n"
     ]
    },
    {
     "name": "stderr",
     "output_type": "stream",
     "text": [
      "/Users/fpil/anaconda3/lib/python3.7/site-packages/scipy/optimize/minpack.py:794: OptimizeWarning: Covariance of the parameters could not be estimated\n",
      "  category=OptimizeWarning)\n"
     ]
    },
    {
     "data": {
      "image/png": "[encoded data removed]",
      "text/plain": [
       "<Figure size 432x288 with 1 Axes>"
      ]
     },
     "metadata": {
      "needs_background": "light"
     },
     "output_type": "display_data"
    },
    {
     "name": "stdout",
     "output_type": "stream",
     "text": [
      "Cambodia\n"
     ]
    },
    {
     "name": "stderr",
     "output_type": "stream",
     "text": [
      "/Users/fpil/anaconda3/lib/python3.7/site-packages/scipy/optimize/minpack.py:794: OptimizeWarning: Covariance of the parameters could not be estimated\n",
      "  category=OptimizeWarning)\n"
     ]
    },
    {
     "data": {
      "image/png": "[encoded data removed]",
      "text/plain": [
       "<Figure size 432x288 with 1 Axes>"
      ]
     },
     "metadata": {
      "needs_background": "light"
     },
     "output_type": "display_data"
    },
    {
     "name": "stdout",
     "output_type": "stream",
     "text": [
      "Canada\n"
     ]
    },
    {
     "name": "stderr",
     "output_type": "stream",
     "text": [
      "/Users/fpil/anaconda3/lib/python3.7/site-packages/scipy/optimize/minpack.py:794: OptimizeWarning: Covariance of the parameters could not be estimated\n",
      "  category=OptimizeWarning)\n"
     ]
    },
    {
     "data": {
      "image/png": "[encoded data removed]",
      "text/plain": [
       "<Figure size 432x288 with 1 Axes>"
      ]
     },
     "metadata": {
      "needs_background": "light"
     },
     "output_type": "display_data"
    },
    {
     "name": "stdout",
     "output_type": "stream",
     "text": [
      "China\n"
     ]
    },
    {
     "name": "stderr",
     "output_type": "stream",
     "text": [
      "/Users/fpil/anaconda3/lib/python3.7/site-packages/scipy/optimize/minpack.py:794: OptimizeWarning: Covariance of the parameters could not be estimated\n",
      "  category=OptimizeWarning)\n"
     ]
    },
    {
     "data": {
      "image/png": "[encoded data removed]",
      "text/plain": [
       "<Figure size 432x288 with 1 Axes>"
      ]
     },
     "metadata": {
      "needs_background": "light"
     },
     "output_type": "display_data"
    },
    {
     "name": "stdout",
     "output_type": "stream",
     "text": [
      "Egypt\n"
     ]
    },
    {
     "name": "stderr",
     "output_type": "stream",
     "text": [
      "/Users/fpil/anaconda3/lib/python3.7/site-packages/scipy/optimize/minpack.py:794: OptimizeWarning: Covariance of the parameters could not be estimated\n",
      "  category=OptimizeWarning)\n"
     ]
    },
    {
     "data": {
      "image/png": "[encoded data removed]",
      "text/plain": [
       "<Figure size 432x288 with 1 Axes>"
      ]
     },
     "metadata": {
      "needs_background": "light"
     },
     "output_type": "display_data"
    },
    {
     "name": "stdout",
     "output_type": "stream",
     "text": [
      "Finland\n"
     ]
    },
    {
     "name": "stderr",
     "output_type": "stream",
     "text": [
      "/Users/fpil/anaconda3/lib/python3.7/site-packages/scipy/optimize/minpack.py:794: OptimizeWarning: Covariance of the parameters could not be estimated\n",
      "  category=OptimizeWarning)\n"
     ]
    },
    {
     "data": {
      "image/png": "[encoded data removed]",
      "text/plain": [
       "<Figure size 432x288 with 1 Axes>"
      ]
     },
     "metadata": {
      "needs_background": "light"
     },
     "output_type": "display_data"
    },
    {
     "name": "stdout",
     "output_type": "stream",
     "text": [
      "France\n"
     ]
    },
    {
     "name": "stderr",
     "output_type": "stream",
     "text": [
      "/Users/fpil/anaconda3/lib/python3.7/site-packages/scipy/optimize/minpack.py:794: OptimizeWarning: Covariance of the parameters could not be estimated\n",
      "  category=OptimizeWarning)\n"
     ]
    },
    {
     "data": {
      "image/png": "[encoded data removed]",
      "text/plain": [
       "<Figure size 432x288 with 1 Axes>"
      ]
     },
     "metadata": {
      "needs_background": "light"
     },
     "output_type": "display_data"
    },
    {
     "name": "stdout",
     "output_type": "stream",
     "text": [
      "Germany\n"
     ]
    },
    {
     "name": "stderr",
     "output_type": "stream",
     "text": [
      "/Users/fpil/anaconda3/lib/python3.7/site-packages/scipy/optimize/minpack.py:794: OptimizeWarning: Covariance of the parameters could not be estimated\n",
      "  category=OptimizeWarning)\n"
     ]
    },
    {
     "data": {
      "image/png": "[encoded data removed]",
      "text/plain": [
       "<Figure size 432x288 with 1 Axes>"
      ]
     },
     "metadata": {
      "needs_background": "light"
     },
     "output_type": "display_data"
    },
    {
     "name": "stdout",
     "output_type": "stream",
     "text": [
      "India\n"
     ]
    },
    {
     "name": "stderr",
     "output_type": "stream",
     "text": [
      "/Users/fpil/anaconda3/lib/python3.7/site-packages/scipy/optimize/minpack.py:794: OptimizeWarning: Covariance of the parameters could not be estimated\n",
      "  category=OptimizeWarning)\n"
     ]
    },
    {
     "data": {
      "image/png": "[encoded data removed]",
      "text/plain": [
       "<Figure size 432x288 with 1 Axes>"
      ]
     },
     "metadata": {
      "needs_background": "light"
     },
     "output_type": "display_data"
    },
    {
     "name": "stdout",
     "output_type": "stream",
     "text": [
      "International\n"
     ]
    },
    {
     "name": "stderr",
     "output_type": "stream",
     "text": [
      "/Users/fpil/anaconda3/lib/python3.7/site-packages/scipy/optimize/minpack.py:794: OptimizeWarning: Covariance of the parameters could not be estimated\n",
      "  category=OptimizeWarning)\n"
     ]
    },
    {
     "data": {
      "image/png": "[encoded data removed]",
      "text/plain": [
       "<Figure size 432x288 with 1 Axes>"
      ]
     },
     "metadata": {
      "needs_background": "light"
     },
     "output_type": "display_data"
    },
    {
     "name": "stdout",
     "output_type": "stream",
     "text": [
      "Iran\n"
     ]
    },
    {
     "name": "stderr",
     "output_type": "stream",
     "text": [
      "/Users/fpil/anaconda3/lib/python3.7/site-packages/scipy/optimize/minpack.py:794: OptimizeWarning: Covariance of the parameters could not be estimated\n",
      "  category=OptimizeWarning)\n"
     ]
    },
    {
     "data": {
      "image/png": "[encoded data removed]",
      "text/plain": [
       "<Figure size 432x288 with 1 Axes>"
      ]
     },
     "metadata": {
      "needs_background": "light"
     },
     "output_type": "display_data"
    },
    {
     "name": "stdout",
     "output_type": "stream",
     "text": [
      "Israel\n"
     ]
    },
    {
     "name": "stderr",
     "output_type": "stream",
     "text": [
      "/Users/fpil/anaconda3/lib/python3.7/site-packages/scipy/optimize/minpack.py:794: OptimizeWarning: Covariance of the parameters could not be estimated\n",
      "  category=OptimizeWarning)\n"
     ]
    },
    {
     "data": {
      "image/png": "[encoded data removed]",
      "text/plain": [
       "<Figure size 432x288 with 1 Axes>"
      ]
     },
     "metadata": {
      "needs_background": "light"
     },
     "output_type": "display_data"
    },
    {
     "name": "stdout",
     "output_type": "stream",
     "text": [
      "Italy\n"
     ]
    },
    {
     "name": "stderr",
     "output_type": "stream",
     "text": [
      "/Users/fpil/anaconda3/lib/python3.7/site-packages/scipy/optimize/minpack.py:794: OptimizeWarning: Covariance of the parameters could not be estimated\n",
      "  category=OptimizeWarning)\n"
     ]
    },
    {
     "data": {
      "image/png": "[encoded data removed]",
      "text/plain": [
       "<Figure size 432x288 with 1 Axes>"
      ]
     },
     "metadata": {
      "needs_background": "light"
     },
     "output_type": "display_data"
    },
    {
     "name": "stdout",
     "output_type": "stream",
     "text": [
      "Japan\n"
     ]
    },
    {
     "name": "stderr",
     "output_type": "stream",
     "text": [
      "/Users/fpil/anaconda3/lib/python3.7/site-packages/scipy/optimize/minpack.py:794: OptimizeWarning: Covariance of the parameters could not be estimated\n",
      "  category=OptimizeWarning)\n"
     ]
    },
    {
     "data": {
      "image/png": "[encoded data removed]",
      "text/plain": [
       "<Figure size 432x288 with 1 Axes>"
      ]
     },
     "metadata": {
      "needs_background": "light"
     },
     "output_type": "display_data"
    },
    {
     "name": "stdout",
     "output_type": "stream",
     "text": [
      "Lebanon\n"
     ]
    },
    {
     "name": "stderr",
     "output_type": "stream",
     "text": [
      "/Users/fpil/anaconda3/lib/python3.7/site-packages/scipy/optimize/minpack.py:794: OptimizeWarning: Covariance of the parameters could not be estimated\n",
      "  category=OptimizeWarning)\n"
     ]
    },
    {
     "data": {
      "image/png": "[encoded data removed]",
      "text/plain": [
       "<Figure size 432x288 with 1 Axes>"
      ]
     },
     "metadata": {
      "needs_background": "light"
     },
     "output_type": "display_data"
    },
    {
     "name": "stdout",
     "output_type": "stream",
     "text": [
      "Malaysia\n"
     ]
    },
    {
     "name": "stderr",
     "output_type": "stream",
     "text": [
      "/Users/fpil/anaconda3/lib/python3.7/site-packages/scipy/optimize/minpack.py:794: OptimizeWarning: Covariance of the parameters could not be estimated\n",
      "  category=OptimizeWarning)\n"
     ]
    },
    {
     "data": {
      "image/png": "[encoded data removed]",
      "text/plain": [
       "<Figure size 432x288 with 1 Axes>"
      ]
     },
     "metadata": {
      "needs_background": "light"
     },
     "output_type": "display_data"
    },
    {
     "name": "stdout",
     "output_type": "stream",
     "text": [
      "Nepal\n"
     ]
    },
    {
     "name": "stderr",
     "output_type": "stream",
     "text": [
      "/Users/fpil/anaconda3/lib/python3.7/site-packages/scipy/optimize/minpack.py:794: OptimizeWarning: Covariance of the parameters could not be estimated\n",
      "  category=OptimizeWarning)\n"
     ]
    },
    {
     "data": {
      "image/png": "[encoded data removed]",
      "text/plain": [
       "<Figure size 432x288 with 1 Axes>"
      ]
     },
     "metadata": {
      "needs_background": "light"
     },
     "output_type": "display_data"
    },
    {
     "name": "stdout",
     "output_type": "stream",
     "text": [
      "Philippines\n"
     ]
    },
    {
     "name": "stderr",
     "output_type": "stream",
     "text": [
      "/Users/fpil/anaconda3/lib/python3.7/site-packages/scipy/optimize/minpack.py:794: OptimizeWarning: Covariance of the parameters could not be estimated\n",
      "  category=OptimizeWarning)\n"
     ]
    },
    {
     "data": {
      "image/png": "[encoded data removed]",
      "text/plain": [
       "<Figure size 432x288 with 1 Axes>"
      ]
     },
     "metadata": {
      "needs_background": "light"
     },
     "output_type": "display_data"
    },
    {
     "name": "stdout",
     "output_type": "stream",
     "text": [
      "Russia\n"
     ]
    },
    {
     "name": "stderr",
     "output_type": "stream",
     "text": [
      "/Users/fpil/anaconda3/lib/python3.7/site-packages/scipy/optimize/minpack.py:794: OptimizeWarning: Covariance of the parameters could not be estimated\n",
      "  category=OptimizeWarning)\n"
     ]
    },
    {
     "data": {
      "image/png": "[encoded data removed]",
      "text/plain": [
       "<Figure size 432x288 with 1 Axes>"
      ]
     },
     "metadata": {
      "needs_background": "light"
     },
     "output_type": "display_data"
    },
    {
     "name": "stdout",
     "output_type": "stream",
     "text": [
      "Singapore\n"
     ]
    },
    {
     "name": "stderr",
     "output_type": "stream",
     "text": [
      "/Users/fpil/anaconda3/lib/python3.7/site-packages/scipy/optimize/minpack.py:794: OptimizeWarning: Covariance of the parameters could not be estimated\n",
      "  category=OptimizeWarning)\n"
     ]
    },
    {
     "data": {
      "image/png": "[encoded data removed]",
      "text/plain": [
       "<Figure size 432x288 with 1 Axes>"
      ]
     },
     "metadata": {
      "needs_background": "light"
     },
     "output_type": "display_data"
    },
    {
     "name": "stdout",
     "output_type": "stream",
     "text": [
      "South Korea\n"
     ]
    },
    {
     "name": "stderr",
     "output_type": "stream",
     "text": [
      "/Users/fpil/anaconda3/lib/python3.7/site-packages/scipy/optimize/minpack.py:794: OptimizeWarning: Covariance of the parameters could not be estimated\n",
      "  category=OptimizeWarning)\n"
     ]
    },
    {
     "data": {
      "image/png": "[encoded data removed]",
      "text/plain": [
       "<Figure size 432x288 with 1 Axes>"
      ]
     },
     "metadata": {
      "needs_background": "light"
     },
     "output_type": "display_data"
    },
    {
     "name": "stdout",
     "output_type": "stream",
     "text": [
      "Spain\n"
     ]
    },
    {
     "name": "stderr",
     "output_type": "stream",
     "text": [
      "/Users/fpil/anaconda3/lib/python3.7/site-packages/scipy/optimize/minpack.py:794: OptimizeWarning: Covariance of the parameters could not be estimated\n",
      "  category=OptimizeWarning)\n"
     ]
    },
    {
     "data": {
      "image/png": "[encoded data removed]",
      "text/plain": [
       "<Figure size 432x288 with 1 Axes>"
      ]
     },
     "metadata": {
      "needs_background": "light"
     },
     "output_type": "display_data"
    },
    {
     "name": "stdout",
     "output_type": "stream",
     "text": [
      "Sri Lanka\n"
     ]
    },
    {
     "name": "stderr",
     "output_type": "stream",
     "text": [
      "/Users/fpil/anaconda3/lib/python3.7/site-packages/scipy/optimize/minpack.py:794: OptimizeWarning: Covariance of the parameters could not be estimated\n",
      "  category=OptimizeWarning)\n"
     ]
    },
    {
     "data": {
      "image/png": "[encoded data removed]",
      "text/plain": [
       "<Figure size 432x288 with 1 Axes>"
      ]
     },
     "metadata": {
      "needs_background": "light"
     },
     "output_type": "display_data"
    },
    {
     "name": "stdout",
     "output_type": "stream",
     "text": [
      "Sweden\n"
     ]
    },
    {
     "name": "stderr",
     "output_type": "stream",
     "text": [
      "/Users/fpil/anaconda3/lib/python3.7/site-packages/scipy/optimize/minpack.py:794: OptimizeWarning: Covariance of the parameters could not be estimated\n",
      "  category=OptimizeWarning)\n"
     ]
    },
    {
     "data": {
      "image/png": "[encoded data removed]",
      "text/plain": [
       "<Figure size 432x288 with 1 Axes>"
      ]
     },
     "metadata": {
      "needs_background": "light"
     },
     "output_type": "display_data"
    },
    {
     "name": "stdout",
     "output_type": "stream",
     "text": [
      "Thailand\n"
     ]
    },
    {
     "name": "stderr",
     "output_type": "stream",
     "text": [
      "/Users/fpil/anaconda3/lib/python3.7/site-packages/scipy/optimize/minpack.py:794: OptimizeWarning: Covariance of the parameters could not be estimated\n",
      "  category=OptimizeWarning)\n"
     ]
    },
    {
     "data": {
      "image/png": "[encoded data removed]",
      "text/plain": [
       "<Figure size 432x288 with 1 Axes>"
      ]
     },
     "metadata": {
      "needs_background": "light"
     },
     "output_type": "display_data"
    },
    {
     "name": "stdout",
     "output_type": "stream",
     "text": [
      "United Arab Emirates\n"
     ]
    },
    {
     "name": "stderr",
     "output_type": "stream",
     "text": [
      "/Users/fpil/anaconda3/lib/python3.7/site-packages/scipy/optimize/minpack.py:794: OptimizeWarning: Covariance of the parameters could not be estimated\n",
      "  category=OptimizeWarning)\n"
     ]
    },
    {
     "data": {
      "image/png": "[encoded data removed]",
      "text/plain": [
       "<Figure size 432x288 with 1 Axes>"
      ]
     },
     "metadata": {
      "needs_background": "light"
     },
     "output_type": "display_data"
    },
    {
     "name": "stdout",
     "output_type": "stream",
     "text": [
      "United Kingdom\n"
     ]
    },
    {
     "name": "stderr",
     "output_type": "stream",
     "text": [
      "/Users/fpil/anaconda3/lib/python3.7/site-packages/scipy/optimize/minpack.py:794: OptimizeWarning: Covariance of the parameters could not be estimated\n",
      "  category=OptimizeWarning)\n"
     ]
    },
    {
     "data": {
      "image/png": "[encoded data removed]",
      "text/plain": [
       "<Figure size 432x288 with 1 Axes>"
      ]
     },
     "metadata": {
      "needs_background": "light"
     },
     "output_type": "display_data"
    },
    {
     "name": "stdout",
     "output_type": "stream",
     "text": [
      "United States\n"
     ]
    },
    {
     "name": "stderr",
     "output_type": "stream",
     "text": [
      "/Users/fpil/anaconda3/lib/python3.7/site-packages/scipy/optimize/minpack.py:794: OptimizeWarning: Covariance of the parameters could not be estimated\n",
      "  category=OptimizeWarning)\n"
     ]
    },
    {
     "data": {
      "image/png": "[encoded data removed]",
      "text/plain": [
       "<Figure size 432x288 with 1 Axes>"
      ]
     },
     "metadata": {
      "needs_background": "light"
     },
     "output_type": "display_data"
    },
    {
     "name": "stdout",
     "output_type": "stream",
     "text": [
      "Vietnam\n"
     ]
    },
    {
     "name": "stderr",
     "output_type": "stream",
     "text": [
      "/Users/fpil/anaconda3/lib/python3.7/site-packages/scipy/optimize/minpack.py:794: OptimizeWarning: Covariance of the parameters could not be estimated\n",
      "  category=OptimizeWarning)\n"
     ]
    },
    {
     "data": {
      "image/png": "[encoded data removed]",
      "text/plain": [
       "<Figure size 432x288 with 1 Axes>"
      ]
     },
     "metadata": {
      "needs_background": "light"
     },
     "output_type": "display_data"
    },
    {
     "name": "stdout",
     "output_type": "stream",
     "text": [
      "Worldwide\n"
     ]
    },
    {
     "name": "stderr",
     "output_type": "stream",
     "text": [
      "/Users/fpil/anaconda3/lib/python3.7/site-packages/scipy/optimize/minpack.py:794: OptimizeWarning: Covariance of the parameters could not be estimated\n",
      "  category=OptimizeWarning)\n"
     ]
    },
    {
     "data": {
      "image/png": "[encoded data removed]",
      "text/plain": [
       "<Figure size 432x288 with 1 Axes>"
      ]
     },
     "metadata": {
      "needs_background": "light"
     },
     "output_type": "display_data"
    },
    {
     "data": {
      "text/html": [
       "<div>\n",
       "<style scoped>\n",
       "    .dataframe tbody tr th:only-of-type {\n",
       "        vertical-align: middle;\n",
       "    }\n",
       "\n",
       "    .dataframe tbody tr th {\n",
       "        vertical-align: top;\n",
       "    }\n",
       "\n",
       "    .dataframe thead th {\n",
       "        text-align: right;\n",
       "    }\n",
       "</style>\n",
       "<table border=\"1\" class=\"dataframe\">\n",
       "  <thead>\n",
       "    <tr style=\"text-align: right;\">\n",
       "      <th></th>\n",
       "      <th>p0</th>\n",
       "      <th>p1</th>\n",
       "      <th>p2</th>\n",
       "      <th>p3</th>\n",
       "      <th>p4</th>\n",
       "      <th>p5</th>\n",
       "      <th>p6</th>\n",
       "      <th>p7</th>\n",
       "      <th>maxCases</th>\n",
       "    </tr>\n",
       "  </thead>\n",
       "  <tbody>\n",
       "    <tr>\n",
       "      <th>Australia</th>\n",
       "      <td>1.0</td>\n",
       "      <td>1.0</td>\n",
       "      <td>1.0</td>\n",
       "      <td>1.0</td>\n",
       "      <td>1.0</td>\n",
       "      <td>1.0</td>\n",
       "      <td>1.0</td>\n",
       "      <td>1.0</td>\n",
       "      <td>122.0</td>\n",
       "    </tr>\n",
       "    <tr>\n",
       "      <th>Belgium</th>\n",
       "      <td>1.0</td>\n",
       "      <td>1.0</td>\n",
       "      <td>1.0</td>\n",
       "      <td>1.0</td>\n",
       "      <td>1.0</td>\n",
       "      <td>1.0</td>\n",
       "      <td>1.0</td>\n",
       "      <td>1.0</td>\n",
       "      <td>314.0</td>\n",
       "    </tr>\n",
       "    <tr>\n",
       "      <th>Cambodia</th>\n",
       "      <td>1.0</td>\n",
       "      <td>1.0</td>\n",
       "      <td>1.0</td>\n",
       "      <td>1.0</td>\n",
       "      <td>1.0</td>\n",
       "      <td>1.0</td>\n",
       "      <td>1.0</td>\n",
       "      <td>1.0</td>\n",
       "      <td>3.0</td>\n",
       "    </tr>\n",
       "    <tr>\n",
       "      <th>Canada</th>\n",
       "      <td>1.0</td>\n",
       "      <td>1.0</td>\n",
       "      <td>1.0</td>\n",
       "      <td>1.0</td>\n",
       "      <td>1.0</td>\n",
       "      <td>1.0</td>\n",
       "      <td>1.0</td>\n",
       "      <td>1.0</td>\n",
       "      <td>93.0</td>\n",
       "    </tr>\n",
       "    <tr>\n",
       "      <th>China</th>\n",
       "      <td>1.0</td>\n",
       "      <td>1.0</td>\n",
       "      <td>1.0</td>\n",
       "      <td>1.0</td>\n",
       "      <td>1.0</td>\n",
       "      <td>1.0</td>\n",
       "      <td>1.0</td>\n",
       "      <td>1.0</td>\n",
       "      <td>80981.0</td>\n",
       "    </tr>\n",
       "    <tr>\n",
       "      <th>Egypt</th>\n",
       "      <td>1.0</td>\n",
       "      <td>1.0</td>\n",
       "      <td>1.0</td>\n",
       "      <td>1.0</td>\n",
       "      <td>1.0</td>\n",
       "      <td>1.0</td>\n",
       "      <td>1.0</td>\n",
       "      <td>1.0</td>\n",
       "      <td>67.0</td>\n",
       "    </tr>\n",
       "    <tr>\n",
       "      <th>Finland</th>\n",
       "      <td>1.0</td>\n",
       "      <td>1.0</td>\n",
       "      <td>1.0</td>\n",
       "      <td>1.0</td>\n",
       "      <td>1.0</td>\n",
       "      <td>1.0</td>\n",
       "      <td>1.0</td>\n",
       "      <td>1.0</td>\n",
       "      <td>40.0</td>\n",
       "    </tr>\n",
       "    <tr>\n",
       "      <th>France</th>\n",
       "      <td>1.0</td>\n",
       "      <td>1.0</td>\n",
       "      <td>1.0</td>\n",
       "      <td>1.0</td>\n",
       "      <td>1.0</td>\n",
       "      <td>1.0</td>\n",
       "      <td>1.0</td>\n",
       "      <td>1.0</td>\n",
       "      <td>2269.0</td>\n",
       "    </tr>\n",
       "    <tr>\n",
       "      <th>Germany</th>\n",
       "      <td>1.0</td>\n",
       "      <td>1.0</td>\n",
       "      <td>1.0</td>\n",
       "      <td>1.0</td>\n",
       "      <td>1.0</td>\n",
       "      <td>1.0</td>\n",
       "      <td>1.0</td>\n",
       "      <td>1.0</td>\n",
       "      <td>1567.0</td>\n",
       "    </tr>\n",
       "    <tr>\n",
       "      <th>India</th>\n",
       "      <td>1.0</td>\n",
       "      <td>1.0</td>\n",
       "      <td>1.0</td>\n",
       "      <td>1.0</td>\n",
       "      <td>1.0</td>\n",
       "      <td>1.0</td>\n",
       "      <td>1.0</td>\n",
       "      <td>1.0</td>\n",
       "      <td>73.0</td>\n",
       "    </tr>\n",
       "    <tr>\n",
       "      <th>International</th>\n",
       "      <td>1.0</td>\n",
       "      <td>1.0</td>\n",
       "      <td>1.0</td>\n",
       "      <td>1.0</td>\n",
       "      <td>1.0</td>\n",
       "      <td>1.0</td>\n",
       "      <td>1.0</td>\n",
       "      <td>1.0</td>\n",
       "      <td>706.0</td>\n",
       "    </tr>\n",
       "    <tr>\n",
       "      <th>Iran</th>\n",
       "      <td>1.0</td>\n",
       "      <td>1.0</td>\n",
       "      <td>1.0</td>\n",
       "      <td>1.0</td>\n",
       "      <td>1.0</td>\n",
       "      <td>1.0</td>\n",
       "      <td>1.0</td>\n",
       "      <td>1.0</td>\n",
       "      <td>9000.0</td>\n",
       "    </tr>\n",
       "    <tr>\n",
       "      <th>Israel</th>\n",
       "      <td>1.0</td>\n",
       "      <td>1.0</td>\n",
       "      <td>1.0</td>\n",
       "      <td>1.0</td>\n",
       "      <td>1.0</td>\n",
       "      <td>1.0</td>\n",
       "      <td>1.0</td>\n",
       "      <td>1.0</td>\n",
       "      <td>75.0</td>\n",
       "    </tr>\n",
       "    <tr>\n",
       "      <th>Italy</th>\n",
       "      <td>1.0</td>\n",
       "      <td>1.0</td>\n",
       "      <td>1.0</td>\n",
       "      <td>1.0</td>\n",
       "      <td>1.0</td>\n",
       "      <td>1.0</td>\n",
       "      <td>1.0</td>\n",
       "      <td>1.0</td>\n",
       "      <td>12462.0</td>\n",
       "    </tr>\n",
       "    <tr>\n",
       "      <th>Japan</th>\n",
       "      <td>1.0</td>\n",
       "      <td>1.0</td>\n",
       "      <td>1.0</td>\n",
       "      <td>1.0</td>\n",
       "      <td>1.0</td>\n",
       "      <td>1.0</td>\n",
       "      <td>1.0</td>\n",
       "      <td>1.0</td>\n",
       "      <td>620.0</td>\n",
       "    </tr>\n",
       "    <tr>\n",
       "      <th>Lebanon</th>\n",
       "      <td>1.0</td>\n",
       "      <td>1.0</td>\n",
       "      <td>1.0</td>\n",
       "      <td>1.0</td>\n",
       "      <td>1.0</td>\n",
       "      <td>1.0</td>\n",
       "      <td>1.0</td>\n",
       "      <td>1.0</td>\n",
       "      <td>66.0</td>\n",
       "    </tr>\n",
       "    <tr>\n",
       "      <th>Malaysia</th>\n",
       "      <td>1.0</td>\n",
       "      <td>1.0</td>\n",
       "      <td>1.0</td>\n",
       "      <td>1.0</td>\n",
       "      <td>1.0</td>\n",
       "      <td>1.0</td>\n",
       "      <td>1.0</td>\n",
       "      <td>1.0</td>\n",
       "      <td>129.0</td>\n",
       "    </tr>\n",
       "    <tr>\n",
       "      <th>Nepal</th>\n",
       "      <td>1.0</td>\n",
       "      <td>1.0</td>\n",
       "      <td>1.0</td>\n",
       "      <td>1.0</td>\n",
       "      <td>1.0</td>\n",
       "      <td>1.0</td>\n",
       "      <td>1.0</td>\n",
       "      <td>1.0</td>\n",
       "      <td>1.0</td>\n",
       "    </tr>\n",
       "    <tr>\n",
       "      <th>Philippines</th>\n",
       "      <td>1.0</td>\n",
       "      <td>1.0</td>\n",
       "      <td>1.0</td>\n",
       "      <td>1.0</td>\n",
       "      <td>1.0</td>\n",
       "      <td>1.0</td>\n",
       "      <td>1.0</td>\n",
       "      <td>1.0</td>\n",
       "      <td>52.0</td>\n",
       "    </tr>\n",
       "    <tr>\n",
       "      <th>Russia</th>\n",
       "      <td>1.0</td>\n",
       "      <td>1.0</td>\n",
       "      <td>1.0</td>\n",
       "      <td>1.0</td>\n",
       "      <td>1.0</td>\n",
       "      <td>1.0</td>\n",
       "      <td>1.0</td>\n",
       "      <td>1.0</td>\n",
       "      <td>20.0</td>\n",
       "    </tr>\n",
       "    <tr>\n",
       "      <th>Singapore</th>\n",
       "      <td>1.0</td>\n",
       "      <td>1.0</td>\n",
       "      <td>1.0</td>\n",
       "      <td>1.0</td>\n",
       "      <td>1.0</td>\n",
       "      <td>1.0</td>\n",
       "      <td>1.0</td>\n",
       "      <td>1.0</td>\n",
       "      <td>178.0</td>\n",
       "    </tr>\n",
       "    <tr>\n",
       "      <th>South Korea</th>\n",
       "      <td>1.0</td>\n",
       "      <td>1.0</td>\n",
       "      <td>1.0</td>\n",
       "      <td>1.0</td>\n",
       "      <td>1.0</td>\n",
       "      <td>1.0</td>\n",
       "      <td>1.0</td>\n",
       "      <td>1.0</td>\n",
       "      <td>7869.0</td>\n",
       "    </tr>\n",
       "    <tr>\n",
       "      <th>Spain</th>\n",
       "      <td>1.0</td>\n",
       "      <td>1.0</td>\n",
       "      <td>1.0</td>\n",
       "      <td>1.0</td>\n",
       "      <td>1.0</td>\n",
       "      <td>1.0</td>\n",
       "      <td>1.0</td>\n",
       "      <td>1.0</td>\n",
       "      <td>2140.0</td>\n",
       "    </tr>\n",
       "    <tr>\n",
       "      <th>Sri Lanka</th>\n",
       "      <td>1.0</td>\n",
       "      <td>1.0</td>\n",
       "      <td>1.0</td>\n",
       "      <td>1.0</td>\n",
       "      <td>1.0</td>\n",
       "      <td>1.0</td>\n",
       "      <td>1.0</td>\n",
       "      <td>1.0</td>\n",
       "      <td>2.0</td>\n",
       "    </tr>\n",
       "    <tr>\n",
       "      <th>Sweden</th>\n",
       "      <td>1.0</td>\n",
       "      <td>1.0</td>\n",
       "      <td>1.0</td>\n",
       "      <td>1.0</td>\n",
       "      <td>1.0</td>\n",
       "      <td>1.0</td>\n",
       "      <td>1.0</td>\n",
       "      <td>1.0</td>\n",
       "      <td>461.0</td>\n",
       "    </tr>\n",
       "    <tr>\n",
       "      <th>Thailand</th>\n",
       "      <td>1.0</td>\n",
       "      <td>1.0</td>\n",
       "      <td>1.0</td>\n",
       "      <td>1.0</td>\n",
       "      <td>1.0</td>\n",
       "      <td>1.0</td>\n",
       "      <td>1.0</td>\n",
       "      <td>1.0</td>\n",
       "      <td>70.0</td>\n",
       "    </tr>\n",
       "    <tr>\n",
       "      <th>United Arab Emirates</th>\n",
       "      <td>1.0</td>\n",
       "      <td>1.0</td>\n",
       "      <td>1.0</td>\n",
       "      <td>1.0</td>\n",
       "      <td>1.0</td>\n",
       "      <td>1.0</td>\n",
       "      <td>1.0</td>\n",
       "      <td>1.0</td>\n",
       "      <td>74.0</td>\n",
       "    </tr>\n",
       "    <tr>\n",
       "      <th>United Kingdom</th>\n",
       "      <td>1.0</td>\n",
       "      <td>1.0</td>\n",
       "      <td>1.0</td>\n",
       "      <td>1.0</td>\n",
       "      <td>1.0</td>\n",
       "      <td>1.0</td>\n",
       "      <td>1.0</td>\n",
       "      <td>1.0</td>\n",
       "      <td>460.0</td>\n",
       "    </tr>\n",
       "    <tr>\n",
       "      <th>United States</th>\n",
       "      <td>1.0</td>\n",
       "      <td>1.0</td>\n",
       "      <td>1.0</td>\n",
       "      <td>1.0</td>\n",
       "      <td>1.0</td>\n",
       "      <td>1.0</td>\n",
       "      <td>1.0</td>\n",
       "      <td>1.0</td>\n",
       "      <td>987.0</td>\n",
       "    </tr>\n",
       "    <tr>\n",
       "      <th>Vietnam</th>\n",
       "      <td>1.0</td>\n",
       "      <td>1.0</td>\n",
       "      <td>1.0</td>\n",
       "      <td>1.0</td>\n",
       "      <td>1.0</td>\n",
       "      <td>1.0</td>\n",
       "      <td>1.0</td>\n",
       "      <td>1.0</td>\n",
       "      <td>39.0</td>\n",
       "    </tr>\n",
       "    <tr>\n",
       "      <th>Worldwide</th>\n",
       "      <td>1.0</td>\n",
       "      <td>1.0</td>\n",
       "      <td>1.0</td>\n",
       "      <td>1.0</td>\n",
       "      <td>1.0</td>\n",
       "      <td>1.0</td>\n",
       "      <td>1.0</td>\n",
       "      <td>1.0</td>\n",
       "      <td>125048.0</td>\n",
       "    </tr>\n",
       "  </tbody>\n",
       "</table>\n",
       "</div>"
      ],
      "text/plain": [
       "                       p0   p1   p2   p3   p4   p5   p6   p7  maxCases\n",
       "Australia             1.0  1.0  1.0  1.0  1.0  1.0  1.0  1.0     122.0\n",
       "Belgium               1.0  1.0  1.0  1.0  1.0  1.0  1.0  1.0     314.0\n",
       "Cambodia              1.0  1.0  1.0  1.0  1.0  1.0  1.0  1.0       3.0\n",
       "Canada                1.0  1.0  1.0  1.0  1.0  1.0  1.0  1.0      93.0\n",
       "China                 1.0  1.0  1.0  1.0  1.0  1.0  1.0  1.0   80981.0\n",
       "Egypt                 1.0  1.0  1.0  1.0  1.0  1.0  1.0  1.0      67.0\n",
       "Finland               1.0  1.0  1.0  1.0  1.0  1.0  1.0  1.0      40.0\n",
       "France                1.0  1.0  1.0  1.0  1.0  1.0  1.0  1.0    2269.0\n",
       "Germany               1.0  1.0  1.0  1.0  1.0  1.0  1.0  1.0    1567.0\n",
       "India                 1.0  1.0  1.0  1.0  1.0  1.0  1.0  1.0      73.0\n",
       "International         1.0  1.0  1.0  1.0  1.0  1.0  1.0  1.0     706.0\n",
       "Iran                  1.0  1.0  1.0  1.0  1.0  1.0  1.0  1.0    9000.0\n",
       "Israel                1.0  1.0  1.0  1.0  1.0  1.0  1.0  1.0      75.0\n",
       "Italy                 1.0  1.0  1.0  1.0  1.0  1.0  1.0  1.0   12462.0\n",
       "Japan                 1.0  1.0  1.0  1.0  1.0  1.0  1.0  1.0     620.0\n",
       "Lebanon               1.0  1.0  1.0  1.0  1.0  1.0  1.0  1.0      66.0\n",
       "Malaysia              1.0  1.0  1.0  1.0  1.0  1.0  1.0  1.0     129.0\n",
       "Nepal                 1.0  1.0  1.0  1.0  1.0  1.0  1.0  1.0       1.0\n",
       "Philippines           1.0  1.0  1.0  1.0  1.0  1.0  1.0  1.0      52.0\n",
       "Russia                1.0  1.0  1.0  1.0  1.0  1.0  1.0  1.0      20.0\n",
       "Singapore             1.0  1.0  1.0  1.0  1.0  1.0  1.0  1.0     178.0\n",
       "South Korea           1.0  1.0  1.0  1.0  1.0  1.0  1.0  1.0    7869.0\n",
       "Spain                 1.0  1.0  1.0  1.0  1.0  1.0  1.0  1.0    2140.0\n",
       "Sri Lanka             1.0  1.0  1.0  1.0  1.0  1.0  1.0  1.0       2.0\n",
       "Sweden                1.0  1.0  1.0  1.0  1.0  1.0  1.0  1.0     461.0\n",
       "Thailand              1.0  1.0  1.0  1.0  1.0  1.0  1.0  1.0      70.0\n",
       "United Arab Emirates  1.0  1.0  1.0  1.0  1.0  1.0  1.0  1.0      74.0\n",
       "United Kingdom        1.0  1.0  1.0  1.0  1.0  1.0  1.0  1.0     460.0\n",
       "United States         1.0  1.0  1.0  1.0  1.0  1.0  1.0  1.0     987.0\n",
       "Vietnam               1.0  1.0  1.0  1.0  1.0  1.0  1.0  1.0      39.0\n",
       "Worldwide             1.0  1.0  1.0  1.0  1.0  1.0  1.0  1.0  125048.0"
      ]
     },
     "execution_count": 141,
     "metadata": {},
     "output_type": "execute_result"
    }
   ],
   "source": [
    "def get_piecewise(s):\n",
    "\n",
    "    x  = np.array(dCV_country[s]['day'])\n",
    "    y  = np.array(dCV_country[s]['log_total_cases'])\n",
    "    p, e = optimize.curve_fit(piecewise_linear, x, y)\n",
    "    \n",
    "    xd = np.linspace(0,40,1)\n",
    "    plt.plot(x, y, \"o\")\n",
    "    plt.plot(xd, piecewise_linear(xd, *p))\n",
    "    plt.show()\n",
    "    return p\n",
    "\n",
    "\n",
    "reg_df = pd.DataFrame(columns=['p0', 'p1', 'p2', 'p3', 'p4', 'p5','p6','p7',  'maxCases'])\n",
    "\n",
    "for country, data in dCVsub_country.items():\n",
    "    #print(country, len(data))\n",
    "    if len(data)>10:\n",
    "        print(country)\n",
    "        p= get_piecewise(country)\n",
    "        reg_df.loc[country] = p.tolist()+  [max(data['total_cases'])]\n",
    "\n",
    "\n",
    "\n",
    "\n",
    "reg_df"
   ]
  },
  {
   "cell_type": "code",
   "execution_count": 143,
   "metadata": {},
   "outputs": [],
   "source": [
    "dCV_complete = pd.DataFrame()\n",
    "\n",
    "for country, data in dCV_country.items():\n",
    "    #print(data)\n",
    "    if len(data.loc[data['total_cases']>0])> 0: \n",
    "    \n",
    "        dCV_complete =dCV_complete.append(data)\n",
    "    "
   ]
  },
  {
   "cell_type": "code",
   "execution_count": 144,
   "metadata": {},
   "outputs": [
    {
     "data": {
      "text/html": [
       "<div>\n",
       "<style scoped>\n",
       "    .dataframe tbody tr th:only-of-type {\n",
       "        vertical-align: middle;\n",
       "    }\n",
       "\n",
       "    .dataframe tbody tr th {\n",
       "        vertical-align: top;\n",
       "    }\n",
       "\n",
       "    .dataframe thead th {\n",
       "        text-align: right;\n",
       "    }\n",
       "</style>\n",
       "<table border=\"1\" class=\"dataframe\">\n",
       "  <thead>\n",
       "    <tr style=\"text-align: right;\">\n",
       "      <th></th>\n",
       "      <th>date</th>\n",
       "      <th>location</th>\n",
       "      <th>new_cases</th>\n",
       "      <th>new_deaths</th>\n",
       "      <th>total_cases</th>\n",
       "      <th>total_deaths</th>\n",
       "      <th>day</th>\n",
       "      <th>reverse_day</th>\n",
       "      <th>log_total_cases</th>\n",
       "      <th>log_day</th>\n",
       "    </tr>\n",
       "  </thead>\n",
       "  <tbody>\n",
       "    <tr>\n",
       "      <th>0</th>\n",
       "      <td>2020-02-25</td>\n",
       "      <td>Afghanistan</td>\n",
       "      <td>0.0</td>\n",
       "      <td>0.0</td>\n",
       "      <td>1</td>\n",
       "      <td>0.0</td>\n",
       "      <td>1</td>\n",
       "      <td>-17</td>\n",
       "      <td>0.000000</td>\n",
       "      <td>0.000000</td>\n",
       "    </tr>\n",
       "    <tr>\n",
       "      <th>1</th>\n",
       "      <td>2020-02-26</td>\n",
       "      <td>Afghanistan</td>\n",
       "      <td>0.0</td>\n",
       "      <td>0.0</td>\n",
       "      <td>1</td>\n",
       "      <td>0.0</td>\n",
       "      <td>2</td>\n",
       "      <td>-16</td>\n",
       "      <td>0.000000</td>\n",
       "      <td>0.693147</td>\n",
       "    </tr>\n",
       "    <tr>\n",
       "      <th>2</th>\n",
       "      <td>2020-02-27</td>\n",
       "      <td>Afghanistan</td>\n",
       "      <td>0.0</td>\n",
       "      <td>0.0</td>\n",
       "      <td>1</td>\n",
       "      <td>0.0</td>\n",
       "      <td>3</td>\n",
       "      <td>-15</td>\n",
       "      <td>0.000000</td>\n",
       "      <td>1.098612</td>\n",
       "    </tr>\n",
       "    <tr>\n",
       "      <th>3</th>\n",
       "      <td>2020-02-28</td>\n",
       "      <td>Afghanistan</td>\n",
       "      <td>0.0</td>\n",
       "      <td>0.0</td>\n",
       "      <td>1</td>\n",
       "      <td>0.0</td>\n",
       "      <td>4</td>\n",
       "      <td>-14</td>\n",
       "      <td>0.000000</td>\n",
       "      <td>1.386294</td>\n",
       "    </tr>\n",
       "    <tr>\n",
       "      <th>4</th>\n",
       "      <td>2020-02-29</td>\n",
       "      <td>Afghanistan</td>\n",
       "      <td>0.0</td>\n",
       "      <td>0.0</td>\n",
       "      <td>1</td>\n",
       "      <td>0.0</td>\n",
       "      <td>5</td>\n",
       "      <td>-13</td>\n",
       "      <td>0.000000</td>\n",
       "      <td>1.609438</td>\n",
       "    </tr>\n",
       "    <tr>\n",
       "      <th>...</th>\n",
       "      <td>...</td>\n",
       "      <td>...</td>\n",
       "      <td>...</td>\n",
       "      <td>...</td>\n",
       "      <td>...</td>\n",
       "      <td>...</td>\n",
       "      <td>...</td>\n",
       "      <td>...</td>\n",
       "      <td>...</td>\n",
       "      <td>...</td>\n",
       "    </tr>\n",
       "    <tr>\n",
       "      <th>2140</th>\n",
       "      <td>2020-03-08</td>\n",
       "      <td>Worldwide</td>\n",
       "      <td>3644.0</td>\n",
       "      <td>96.0</td>\n",
       "      <td>105592</td>\n",
       "      <td>3584.0</td>\n",
       "      <td>48</td>\n",
       "      <td>-5</td>\n",
       "      <td>11.567338</td>\n",
       "      <td>3.871201</td>\n",
       "    </tr>\n",
       "    <tr>\n",
       "      <th>2141</th>\n",
       "      <td>2020-03-09</td>\n",
       "      <td>Worldwide</td>\n",
       "      <td>3979.0</td>\n",
       "      <td>224.0</td>\n",
       "      <td>109577</td>\n",
       "      <td>3809.0</td>\n",
       "      <td>49</td>\n",
       "      <td>-4</td>\n",
       "      <td>11.604383</td>\n",
       "      <td>3.891820</td>\n",
       "    </tr>\n",
       "    <tr>\n",
       "      <th>2142</th>\n",
       "      <td>2020-03-10</td>\n",
       "      <td>Worldwide</td>\n",
       "      <td>4119.0</td>\n",
       "      <td>201.0</td>\n",
       "      <td>113702</td>\n",
       "      <td>4012.0</td>\n",
       "      <td>50</td>\n",
       "      <td>-3</td>\n",
       "      <td>11.641336</td>\n",
       "      <td>3.912023</td>\n",
       "    </tr>\n",
       "    <tr>\n",
       "      <th>2143</th>\n",
       "      <td>2020-03-11</td>\n",
       "      <td>Worldwide</td>\n",
       "      <td>4611.0</td>\n",
       "      <td>275.0</td>\n",
       "      <td>118319</td>\n",
       "      <td>4292.0</td>\n",
       "      <td>51</td>\n",
       "      <td>-2</td>\n",
       "      <td>11.681140</td>\n",
       "      <td>3.931826</td>\n",
       "    </tr>\n",
       "    <tr>\n",
       "      <th>2144</th>\n",
       "      <td>2020-03-12</td>\n",
       "      <td>Worldwide</td>\n",
       "      <td>6724.0</td>\n",
       "      <td>317.0</td>\n",
       "      <td>125048</td>\n",
       "      <td>4613.0</td>\n",
       "      <td>52</td>\n",
       "      <td>-1</td>\n",
       "      <td>11.736453</td>\n",
       "      <td>3.951244</td>\n",
       "    </tr>\n",
       "  </tbody>\n",
       "</table>\n",
       "<p>2145 rows × 10 columns</p>\n",
       "</div>"
      ],
      "text/plain": [
       "            date     location  new_cases  new_deaths  total_cases  \\\n",
       "0     2020-02-25  Afghanistan        0.0         0.0            1   \n",
       "1     2020-02-26  Afghanistan        0.0         0.0            1   \n",
       "2     2020-02-27  Afghanistan        0.0         0.0            1   \n",
       "3     2020-02-28  Afghanistan        0.0         0.0            1   \n",
       "4     2020-02-29  Afghanistan        0.0         0.0            1   \n",
       "...          ...          ...        ...         ...          ...   \n",
       "2140  2020-03-08    Worldwide     3644.0        96.0       105592   \n",
       "2141  2020-03-09    Worldwide     3979.0       224.0       109577   \n",
       "2142  2020-03-10    Worldwide     4119.0       201.0       113702   \n",
       "2143  2020-03-11    Worldwide     4611.0       275.0       118319   \n",
       "2144  2020-03-12    Worldwide     6724.0       317.0       125048   \n",
       "\n",
       "      total_deaths  day  reverse_day  log_total_cases   log_day  \n",
       "0              0.0    1          -17         0.000000  0.000000  \n",
       "1              0.0    2          -16         0.000000  0.693147  \n",
       "2              0.0    3          -15         0.000000  1.098612  \n",
       "3              0.0    4          -14         0.000000  1.386294  \n",
       "4              0.0    5          -13         0.000000  1.609438  \n",
       "...            ...  ...          ...              ...       ...  \n",
       "2140        3584.0   48           -5        11.567338  3.871201  \n",
       "2141        3809.0   49           -4        11.604383  3.891820  \n",
       "2142        4012.0   50           -3        11.641336  3.912023  \n",
       "2143        4292.0   51           -2        11.681140  3.931826  \n",
       "2144        4613.0   52           -1        11.736453  3.951244  \n",
       "\n",
       "[2145 rows x 10 columns]"
      ]
     },
     "execution_count": 144,
     "metadata": {},
     "output_type": "execute_result"
    }
   ],
   "source": [
    "dCV_complete"
   ]
  },
  {
   "cell_type": "code",
   "execution_count": 150,
   "metadata": {},
   "outputs": [
    {
     "data": {
      "text/html": [
       "<div>\n",
       "<style scoped>\n",
       "    .dataframe tbody tr th:only-of-type {\n",
       "        vertical-align: middle;\n",
       "    }\n",
       "\n",
       "    .dataframe tbody tr th {\n",
       "        vertical-align: top;\n",
       "    }\n",
       "\n",
       "    .dataframe thead th {\n",
       "        text-align: right;\n",
       "    }\n",
       "</style>\n",
       "<table border=\"1\" class=\"dataframe\">\n",
       "  <thead>\n",
       "    <tr style=\"text-align: right;\">\n",
       "      <th></th>\n",
       "      <th>date</th>\n",
       "      <th>location</th>\n",
       "      <th>new_cases</th>\n",
       "      <th>new_deaths</th>\n",
       "      <th>total_cases</th>\n",
       "      <th>total_deaths</th>\n",
       "      <th>day</th>\n",
       "      <th>reverse_day</th>\n",
       "      <th>log_total_cases</th>\n",
       "      <th>log_day</th>\n",
       "    </tr>\n",
       "  </thead>\n",
       "  <tbody>\n",
       "    <tr>\n",
       "      <th>498</th>\n",
       "      <td>2020-02-15</td>\n",
       "      <td>Egypt</td>\n",
       "      <td>0.0</td>\n",
       "      <td>0.0</td>\n",
       "      <td>1</td>\n",
       "      <td>0.0</td>\n",
       "      <td>1</td>\n",
       "      <td>-27</td>\n",
       "      <td>0.000000</td>\n",
       "      <td>0.000000</td>\n",
       "    </tr>\n",
       "    <tr>\n",
       "      <th>499</th>\n",
       "      <td>2020-02-16</td>\n",
       "      <td>Egypt</td>\n",
       "      <td>0.0</td>\n",
       "      <td>0.0</td>\n",
       "      <td>1</td>\n",
       "      <td>0.0</td>\n",
       "      <td>2</td>\n",
       "      <td>-26</td>\n",
       "      <td>0.000000</td>\n",
       "      <td>0.693147</td>\n",
       "    </tr>\n",
       "    <tr>\n",
       "      <th>500</th>\n",
       "      <td>2020-02-17</td>\n",
       "      <td>Egypt</td>\n",
       "      <td>0.0</td>\n",
       "      <td>0.0</td>\n",
       "      <td>1</td>\n",
       "      <td>0.0</td>\n",
       "      <td>3</td>\n",
       "      <td>-25</td>\n",
       "      <td>0.000000</td>\n",
       "      <td>1.098612</td>\n",
       "    </tr>\n",
       "    <tr>\n",
       "      <th>501</th>\n",
       "      <td>2020-02-18</td>\n",
       "      <td>Egypt</td>\n",
       "      <td>0.0</td>\n",
       "      <td>0.0</td>\n",
       "      <td>1</td>\n",
       "      <td>0.0</td>\n",
       "      <td>4</td>\n",
       "      <td>-24</td>\n",
       "      <td>0.000000</td>\n",
       "      <td>1.386294</td>\n",
       "    </tr>\n",
       "    <tr>\n",
       "      <th>502</th>\n",
       "      <td>2020-02-19</td>\n",
       "      <td>Egypt</td>\n",
       "      <td>0.0</td>\n",
       "      <td>0.0</td>\n",
       "      <td>1</td>\n",
       "      <td>0.0</td>\n",
       "      <td>5</td>\n",
       "      <td>-23</td>\n",
       "      <td>0.000000</td>\n",
       "      <td>1.609438</td>\n",
       "    </tr>\n",
       "    <tr>\n",
       "      <th>...</th>\n",
       "      <td>...</td>\n",
       "      <td>...</td>\n",
       "      <td>...</td>\n",
       "      <td>...</td>\n",
       "      <td>...</td>\n",
       "      <td>...</td>\n",
       "      <td>...</td>\n",
       "      <td>...</td>\n",
       "      <td>...</td>\n",
       "      <td>...</td>\n",
       "    </tr>\n",
       "    <tr>\n",
       "      <th>952</th>\n",
       "      <td>2020-03-08</td>\n",
       "      <td>Italy</td>\n",
       "      <td>1247.0</td>\n",
       "      <td>37.0</td>\n",
       "      <td>5883</td>\n",
       "      <td>234.0</td>\n",
       "      <td>38</td>\n",
       "      <td>-5</td>\n",
       "      <td>8.679822</td>\n",
       "      <td>3.637586</td>\n",
       "    </tr>\n",
       "    <tr>\n",
       "      <th>953</th>\n",
       "      <td>2020-03-09</td>\n",
       "      <td>Italy</td>\n",
       "      <td>1492.0</td>\n",
       "      <td>132.0</td>\n",
       "      <td>7375</td>\n",
       "      <td>366.0</td>\n",
       "      <td>39</td>\n",
       "      <td>-4</td>\n",
       "      <td>8.905851</td>\n",
       "      <td>3.663562</td>\n",
       "    </tr>\n",
       "    <tr>\n",
       "      <th>954</th>\n",
       "      <td>2020-03-10</td>\n",
       "      <td>Italy</td>\n",
       "      <td>1797.0</td>\n",
       "      <td>97.0</td>\n",
       "      <td>9172</td>\n",
       "      <td>463.0</td>\n",
       "      <td>40</td>\n",
       "      <td>-3</td>\n",
       "      <td>9.123911</td>\n",
       "      <td>3.688879</td>\n",
       "    </tr>\n",
       "    <tr>\n",
       "      <th>955</th>\n",
       "      <td>2020-03-11</td>\n",
       "      <td>Italy</td>\n",
       "      <td>977.0</td>\n",
       "      <td>168.0</td>\n",
       "      <td>10149</td>\n",
       "      <td>631.0</td>\n",
       "      <td>41</td>\n",
       "      <td>-2</td>\n",
       "      <td>9.225130</td>\n",
       "      <td>3.713572</td>\n",
       "    </tr>\n",
       "    <tr>\n",
       "      <th>956</th>\n",
       "      <td>2020-03-12</td>\n",
       "      <td>Italy</td>\n",
       "      <td>2313.0</td>\n",
       "      <td>196.0</td>\n",
       "      <td>12462</td>\n",
       "      <td>827.0</td>\n",
       "      <td>42</td>\n",
       "      <td>-1</td>\n",
       "      <td>9.430439</td>\n",
       "      <td>3.737670</td>\n",
       "    </tr>\n",
       "  </tbody>\n",
       "</table>\n",
       "<p>112 rows × 10 columns</p>\n",
       "</div>"
      ],
      "text/plain": [
       "           date location  new_cases  new_deaths  total_cases  total_deaths  \\\n",
       "498  2020-02-15    Egypt        0.0         0.0            1           0.0   \n",
       "499  2020-02-16    Egypt        0.0         0.0            1           0.0   \n",
       "500  2020-02-17    Egypt        0.0         0.0            1           0.0   \n",
       "501  2020-02-18    Egypt        0.0         0.0            1           0.0   \n",
       "502  2020-02-19    Egypt        0.0         0.0            1           0.0   \n",
       "..          ...      ...        ...         ...          ...           ...   \n",
       "952  2020-03-08    Italy     1247.0        37.0         5883         234.0   \n",
       "953  2020-03-09    Italy     1492.0       132.0         7375         366.0   \n",
       "954  2020-03-10    Italy     1797.0        97.0         9172         463.0   \n",
       "955  2020-03-11    Italy      977.0       168.0        10149         631.0   \n",
       "956  2020-03-12    Italy     2313.0       196.0        12462         827.0   \n",
       "\n",
       "     day  reverse_day  log_total_cases   log_day  \n",
       "498    1          -27         0.000000  0.000000  \n",
       "499    2          -26         0.000000  0.693147  \n",
       "500    3          -25         0.000000  1.098612  \n",
       "501    4          -24         0.000000  1.386294  \n",
       "502    5          -23         0.000000  1.609438  \n",
       "..   ...          ...              ...       ...  \n",
       "952   38           -5         8.679822  3.637586  \n",
       "953   39           -4         8.905851  3.663562  \n",
       "954   40           -3         9.123911  3.688879  \n",
       "955   41           -2         9.225130  3.713572  \n",
       "956   42           -1         9.430439  3.737670  \n",
       "\n",
       "[112 rows x 10 columns]"
      ]
     },
     "execution_count": 150,
     "metadata": {},
     "output_type": "execute_result"
    }
   ],
   "source": [
    "# delete countries where no of cases are less than 73\n",
    "\n",
    "\n",
    "country = ['India', 'Italy', 'Egypt']\n",
    "temp = dCV_complete.loc[(dCV_complete['location'].isin(country)) ] # (dCV_complete['total_cases']>=18) &\n",
    "temp\n"
   ]
  },
  {
   "cell_type": "code",
   "execution_count": 152,
   "metadata": {},
   "outputs": [
    {
     "data": {
      "text/plain": [
       "<matplotlib.axes._subplots.AxesSubplot at 0x1a2bbea898>"
      ]
     },
     "execution_count": 152,
     "metadata": {},
     "output_type": "execute_result"
    },
    {
     "data": {
      "image/png": "[encoded data removed]",
      "text/plain": [
       "<Figure size 1440x720 with 1 Axes>"
      ]
     },
     "metadata": {
      "needs_background": "light"
     },
     "output_type": "display_data"
    }
   ],
   "source": [
    "import seaborn as sns\n",
    "plt.figure(figsize=[20,10])\n",
    "\n",
    "sns.lineplot(data = temp, x='reverse_day',y='log_total_cases',hue='location' )\n",
    "#dCV_complete.plot(kind='scatter',x='reverse_day',y='total_cases',hue='country')"
   ]
  },
  {
   "cell_type": "code",
   "execution_count": null,
   "metadata": {},
   "outputs": [],
   "source": []
  },
  {
   "cell_type": "code",
   "execution_count": null,
   "metadata": {},
   "outputs": [],
   "source": []
  },
  {
   "cell_type": "code",
   "execution_count": null,
   "metadata": {},
   "outputs": [],
   "source": []
  }
 ],
 "metadata": {
  "kernelspec": {
   "display_name": "Python 3",
   "language": "python",
   "name": "python3"
  },
  "language_info": {
   "codemirror_mode": {
    "name": "ipython",
    "version": 3
   },
   "file_extension": ".py",
   "mimetype": "text/x-python",
   "name": "python",
   "nbconvert_exporter": "python",
   "pygments_lexer": "ipython3",
   "version": "3.7.1"
  }
 },
 "nbformat": 4,
 "nbformat_minor": 4
}
